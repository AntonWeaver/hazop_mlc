{
 "cells": [
  {
   "cell_type": "code",
   "execution_count": 8,
   "id": "131c3008",
   "metadata": {
    "execution": {
     "iopub.execute_input": "2023-07-20T19:54:27.067492Z",
     "iopub.status.busy": "2023-07-20T19:54:27.067036Z",
     "iopub.status.idle": "2023-07-20T19:54:27.079362Z",
     "shell.execute_reply": "2023-07-20T19:54:27.078127Z"
    },
    "papermill": {
     "duration": 0.035161,
     "end_time": "2023-07-20T19:54:27.082211",
     "exception": false,
     "start_time": "2023-07-20T19:54:27.047050",
     "status": "completed"
    },
    "tags": []
   },
   "outputs": [],
   "source": [
    "import pandas as pd"
   ]
  },
  {
   "cell_type": "code",
   "execution_count": 9,
   "id": "97e4c693",
   "metadata": {
    "execution": {
     "iopub.execute_input": "2023-07-20T19:54:27.119830Z",
     "iopub.status.busy": "2023-07-20T19:54:27.118976Z",
     "iopub.status.idle": "2023-07-20T19:54:28.146189Z",
     "shell.execute_reply": "2023-07-20T19:54:28.144778Z"
    },
    "papermill": {
     "duration": 1.050499,
     "end_time": "2023-07-20T19:54:28.149575",
     "exception": false,
     "start_time": "2023-07-20T19:54:27.099076",
     "status": "completed"
    },
    "tags": []
   },
   "outputs": [],
   "source": [
    "#Return initial dataset from .xlsx\n",
    "table = pd.read_excel('Hazop_table_202210260248.xlsx')"
   ]
  },
  {
   "cell_type": "code",
   "execution_count": 10,
   "id": "d24c2b91",
   "metadata": {
    "execution": {
     "iopub.execute_input": "2023-07-20T19:54:28.185924Z",
     "iopub.status.busy": "2023-07-20T19:54:28.184704Z",
     "iopub.status.idle": "2023-07-20T19:54:28.225237Z",
     "shell.execute_reply": "2023-07-20T19:54:28.223802Z"
    },
    "papermill": {
     "duration": 0.061895,
     "end_time": "2023-07-20T19:54:28.228336",
     "exception": false,
     "start_time": "2023-07-20T19:54:28.166441",
     "status": "completed"
    },
    "tags": []
   },
   "outputs": [
    {
     "data": {
      "text/html": [
       "<div>\n",
       "<style scoped>\n",
       "    .dataframe tbody tr th:only-of-type {\n",
       "        vertical-align: middle;\n",
       "    }\n",
       "\n",
       "    .dataframe tbody tr th {\n",
       "        vertical-align: top;\n",
       "    }\n",
       "\n",
       "    .dataframe thead th {\n",
       "        text-align: right;\n",
       "    }\n",
       "</style>\n",
       "<table border=\"1\" class=\"dataframe\">\n",
       "  <thead>\n",
       "    <tr style=\"text-align: right;\">\n",
       "      <th></th>\n",
       "      <th>ID_Hazop_Tbl</th>\n",
       "      <th>Npp</th>\n",
       "      <th>ID_Uzel_word</th>\n",
       "      <th>Npp_tab</th>\n",
       "      <th>Prichin</th>\n",
       "      <th>Posledstv_Zd</th>\n",
       "      <th>Posledstv_Ecol</th>\n",
       "      <th>Posledstv_Econ</th>\n",
       "      <th>Me_zashit</th>\n",
       "      <th>Recommend</th>\n",
       "      <th>Otvetstv</th>\n",
       "      <th>Uroven</th>\n",
       "      <th>Risk</th>\n",
       "      <th>Verojatn</th>\n",
       "      <th>Posledstv</th>\n",
       "      <th>UrPosledstv</th>\n",
       "    </tr>\n",
       "  </thead>\n",
       "  <tbody>\n",
       "    <tr>\n",
       "      <th>0</th>\n",
       "      <td>682</td>\n",
       "      <td>1</td>\n",
       "      <td>294.0</td>\n",
       "      <td>NaN</td>\n",
       "      <td>Gate valve UV-6001 failure (valve closed)</td>\n",
       "      <td>None</td>\n",
       "      <td>None</td>\n",
       "      <td>HCGO flow stop to heat exchanger E-101-1/2, fl...</td>\n",
       "      <td>1. Gate valve UV-6001 position alarm_x000D_\\n2...</td>\n",
       "      <td>NaN</td>\n",
       "      <td>NaN</td>\n",
       "      <td>1.0</td>\n",
       "      <td>3.0</td>\n",
       "      <td>3</td>\n",
       "      <td>E</td>\n",
       "      <td>0.0</td>\n",
       "    </tr>\n",
       "    <tr>\n",
       "      <th>1</th>\n",
       "      <td>683</td>\n",
       "      <td>2</td>\n",
       "      <td>294.0</td>\n",
       "      <td>NaN</td>\n",
       "      <td>Gate valve UV-6002 failure (valve closed)</td>\n",
       "      <td>None</td>\n",
       "      <td>None</td>\n",
       "      <td>SR VGO flow stop to inlet of heat exchanger E-...</td>\n",
       "      <td>1. Gate valve UV-6002 position alarm_x000D_\\n2...</td>\n",
       "      <td>NaN</td>\n",
       "      <td>NaN</td>\n",
       "      <td>1.0</td>\n",
       "      <td>3.0</td>\n",
       "      <td>3</td>\n",
       "      <td>E</td>\n",
       "      <td>0.0</td>\n",
       "    </tr>\n",
       "    <tr>\n",
       "      <th>2</th>\n",
       "      <td>684</td>\n",
       "      <td>3</td>\n",
       "      <td>294.0</td>\n",
       "      <td>NaN</td>\n",
       "      <td>Gate valve UV-6003 failure (valve closed)</td>\n",
       "      <td>Significant decrease of Unit productivity (sto...</td>\n",
       "      <td>None</td>\n",
       "      <td>SR VGO main flow stop to inlet of heat exchang...</td>\n",
       "      <td>1. Gate valve UV-6002 position alarm_x000D_\\n2...</td>\n",
       "      <td>NaN</td>\n",
       "      <td>NaN</td>\n",
       "      <td>1.0</td>\n",
       "      <td>8.0</td>\n",
       "      <td>3</td>\n",
       "      <td>D</td>\n",
       "      <td>1.0</td>\n",
       "    </tr>\n",
       "    <tr>\n",
       "      <th>3</th>\n",
       "      <td>685</td>\n",
       "      <td>4</td>\n",
       "      <td>294.0</td>\n",
       "      <td>NaN</td>\n",
       "      <td>Flow control loop FIC-3110 failure (valve FV-3...</td>\n",
       "      <td>None</td>\n",
       "      <td>None</td>\n",
       "      <td>HCGO flow stop to heat exchanger E-101-1/2, fl...</td>\n",
       "      <td>1. Alarm of minimum level in V-101 via device ...</td>\n",
       "      <td>NaN</td>\n",
       "      <td>NaN</td>\n",
       "      <td>1.0</td>\n",
       "      <td>4.0</td>\n",
       "      <td>4</td>\n",
       "      <td>E</td>\n",
       "      <td>0.0</td>\n",
       "    </tr>\n",
       "    <tr>\n",
       "      <th>4</th>\n",
       "      <td>686</td>\n",
       "      <td>5</td>\n",
       "      <td>294.0</td>\n",
       "      <td>NaN</td>\n",
       "      <td>Flow control loop FIC-3111A failure (valve FV-...</td>\n",
       "      <td>None</td>\n",
       "      <td>None</td>\n",
       "      <td>SR VGO flow stop to inlet of heat exchanger E-...</td>\n",
       "      <td>1. Alarm of minimum level in V-101 via device ...</td>\n",
       "      <td>NaN</td>\n",
       "      <td>NaN</td>\n",
       "      <td>1.0</td>\n",
       "      <td>4.0</td>\n",
       "      <td>4</td>\n",
       "      <td>E</td>\n",
       "      <td>0.0</td>\n",
       "    </tr>\n",
       "  </tbody>\n",
       "</table>\n",
       "</div>"
      ],
      "text/plain": [
       "  ID_Hazop_Tbl Npp  ID_Uzel_word  Npp_tab  \\\n",
       "0          682   1         294.0      NaN   \n",
       "1          683   2         294.0      NaN   \n",
       "2          684   3         294.0      NaN   \n",
       "3          685   4         294.0      NaN   \n",
       "4          686   5         294.0      NaN   \n",
       "\n",
       "                                             Prichin  \\\n",
       "0          Gate valve UV-6001 failure (valve closed)   \n",
       "1          Gate valve UV-6002 failure (valve closed)   \n",
       "2          Gate valve UV-6003 failure (valve closed)   \n",
       "3  Flow control loop FIC-3110 failure (valve FV-3...   \n",
       "4  Flow control loop FIC-3111A failure (valve FV-...   \n",
       "\n",
       "                                        Posledstv_Zd Posledstv_Ecol  \\\n",
       "0                                               None           None   \n",
       "1                                               None           None   \n",
       "2  Significant decrease of Unit productivity (sto...           None   \n",
       "3                                               None           None   \n",
       "4                                               None           None   \n",
       "\n",
       "                                      Posledstv_Econ  \\\n",
       "0  HCGO flow stop to heat exchanger E-101-1/2, fl...   \n",
       "1  SR VGO flow stop to inlet of heat exchanger E-...   \n",
       "2  SR VGO main flow stop to inlet of heat exchang...   \n",
       "3  HCGO flow stop to heat exchanger E-101-1/2, fl...   \n",
       "4  SR VGO flow stop to inlet of heat exchanger E-...   \n",
       "\n",
       "                                           Me_zashit Recommend Otvetstv  \\\n",
       "0  1. Gate valve UV-6001 position alarm_x000D_\\n2...       NaN      NaN   \n",
       "1  1. Gate valve UV-6002 position alarm_x000D_\\n2...       NaN      NaN   \n",
       "2  1. Gate valve UV-6002 position alarm_x000D_\\n2...       NaN      NaN   \n",
       "3  1. Alarm of minimum level in V-101 via device ...       NaN      NaN   \n",
       "4  1. Alarm of minimum level in V-101 via device ...       NaN      NaN   \n",
       "\n",
       "   Uroven  Risk Verojatn Posledstv  UrPosledstv  \n",
       "0     1.0   3.0        3         E          0.0  \n",
       "1     1.0   3.0        3         E          0.0  \n",
       "2     1.0   8.0        3         D          1.0  \n",
       "3     1.0   4.0        4         E          0.0  \n",
       "4     1.0   4.0        4         E          0.0  "
      ]
     },
     "execution_count": 10,
     "metadata": {},
     "output_type": "execute_result"
    }
   ],
   "source": [
    "#Checking top 5\n",
    "table.head(5)"
   ]
  },
  {
   "cell_type": "code",
   "execution_count": 11,
   "id": "8b58547b",
   "metadata": {
    "execution": {
     "iopub.execute_input": "2023-07-20T19:54:28.265512Z",
     "iopub.status.busy": "2023-07-20T19:54:28.264712Z",
     "iopub.status.idle": "2023-07-20T19:54:28.273176Z",
     "shell.execute_reply": "2023-07-20T19:54:28.271963Z"
    },
    "papermill": {
     "duration": 0.0295,
     "end_time": "2023-07-20T19:54:28.275619",
     "exception": false,
     "start_time": "2023-07-20T19:54:28.246119",
     "status": "completed"
    },
    "tags": []
   },
   "outputs": [
    {
     "data": {
      "text/plain": [
       "array(['E', 'E', 'D', ..., 'S4', 'S4', 'S3'], dtype=object)"
      ]
     },
     "execution_count": 11,
     "metadata": {},
     "output_type": "execute_result"
    }
   ],
   "source": [
    "#Checking values from column with severity levels\n",
    "table['Posledstv'].values"
   ]
  },
  {
   "cell_type": "code",
   "execution_count": 12,
   "id": "121fb89d",
   "metadata": {
    "execution": {
     "iopub.execute_input": "2023-07-20T19:54:28.311528Z",
     "iopub.status.busy": "2023-07-20T19:54:28.311090Z",
     "iopub.status.idle": "2023-07-20T19:54:28.344969Z",
     "shell.execute_reply": "2023-07-20T19:54:28.343571Z"
    },
    "papermill": {
     "duration": 0.0551,
     "end_time": "2023-07-20T19:54:28.347673",
     "exception": false,
     "start_time": "2023-07-20T19:54:28.292573",
     "status": "completed"
    },
    "tags": []
   },
   "outputs": [
    {
     "data": {
      "text/html": [
       "<div>\n",
       "<style scoped>\n",
       "    .dataframe tbody tr th:only-of-type {\n",
       "        vertical-align: middle;\n",
       "    }\n",
       "\n",
       "    .dataframe tbody tr th {\n",
       "        vertical-align: top;\n",
       "    }\n",
       "\n",
       "    .dataframe thead th {\n",
       "        text-align: right;\n",
       "    }\n",
       "</style>\n",
       "<table border=\"1\" class=\"dataframe\">\n",
       "  <thead>\n",
       "    <tr style=\"text-align: right;\">\n",
       "      <th></th>\n",
       "      <th>ID_Hazop_Tbl</th>\n",
       "      <th>Npp</th>\n",
       "      <th>ID_Uzel_word</th>\n",
       "      <th>Npp_tab</th>\n",
       "      <th>Prichin</th>\n",
       "      <th>Posledstv_Zd</th>\n",
       "      <th>Posledstv_Ecol</th>\n",
       "      <th>Posledstv_Econ</th>\n",
       "      <th>Me_zashit</th>\n",
       "      <th>Recommend</th>\n",
       "      <th>Otvetstv</th>\n",
       "      <th>Uroven</th>\n",
       "      <th>Risk</th>\n",
       "      <th>Verojatn</th>\n",
       "      <th>Posledstv</th>\n",
       "      <th>UrPosledstv</th>\n",
       "    </tr>\n",
       "  </thead>\n",
       "  <tbody>\n",
       "    <tr>\n",
       "      <th>6</th>\n",
       "      <td>688</td>\n",
       "      <td>7</td>\n",
       "      <td>294.0</td>\n",
       "      <td>NaN</td>\n",
       "      <td>Flow control loop FIC-3113 failure (valve FV-3...</td>\n",
       "      <td>None</td>\n",
       "      <td>None</td>\n",
       "      <td>Heat medium flow stop to exchanger E-101-1/2 b...</td>\n",
       "      <td>1. Alarm of maximum pressure drop on filter F-...</td>\n",
       "      <td>NaN</td>\n",
       "      <td>NaN</td>\n",
       "      <td>1.0</td>\n",
       "      <td>4.0</td>\n",
       "      <td>L4</td>\n",
       "      <td>S1</td>\n",
       "      <td>0.0</td>\n",
       "    </tr>\n",
       "    <tr>\n",
       "      <th>7</th>\n",
       "      <td>689</td>\n",
       "      <td>8</td>\n",
       "      <td>294.0</td>\n",
       "      <td>NaN</td>\n",
       "      <td>Gate valve UV-6101 failure (valve closed)</td>\n",
       "      <td>Pump P-101A (P-101B) breakdown; release of haz...</td>\n",
       "      <td>gas contamination, combustion products contami...</td>\n",
       "      <td>Flow stop to feed drum V-101, stop of SR VGO a...</td>\n",
       "      <td>1. Gate valve UV-6101 position alarm_x000D_\\n2...</td>\n",
       "      <td>NaN</td>\n",
       "      <td>NaN</td>\n",
       "      <td>2.0</td>\n",
       "      <td>13.0</td>\n",
       "      <td>L3</td>\n",
       "      <td>S3</td>\n",
       "      <td>2.0</td>\n",
       "    </tr>\n",
       "    <tr>\n",
       "      <th>8</th>\n",
       "      <td>690</td>\n",
       "      <td>9</td>\n",
       "      <td>294.0</td>\n",
       "      <td>NaN</td>\n",
       "      <td>Pump P-101A (P-101B) trip</td>\n",
       "      <td>Heater H-101 coils burnout; fire in heater H-1...</td>\n",
       "      <td>gas contamination, combustion products contami...</td>\n",
       "      <td>Pumping stop from feed drum V-101, level incre...</td>\n",
       "      <td>1. Alarm of pump P-101A (P-101B) operation_x00...</td>\n",
       "      <td>NaN</td>\n",
       "      <td>NaN</td>\n",
       "      <td>3.0</td>\n",
       "      <td>22.0</td>\n",
       "      <td>L2</td>\n",
       "      <td>S5</td>\n",
       "      <td>4.0</td>\n",
       "    </tr>\n",
       "    <tr>\n",
       "      <th>9</th>\n",
       "      <td>691</td>\n",
       "      <td>10</td>\n",
       "      <td>294.0</td>\n",
       "      <td>NaN</td>\n",
       "      <td>Gate valve UV-6137 failure (valve closed)</td>\n",
       "      <td>Heater H-101 coils burnout; fire in heater H-1...</td>\n",
       "      <td>gas contamination, combustion products contami...</td>\n",
       "      <td>Pumping stop from feed drum V-101, level incre...</td>\n",
       "      <td>1. Gate valve UV-6137 position alarm_x000D_\\n2...</td>\n",
       "      <td>Review a necessity of check valve installation...</td>\n",
       "      <td>DL E&amp;C</td>\n",
       "      <td>3.0</td>\n",
       "      <td>22.0</td>\n",
       "      <td>L2</td>\n",
       "      <td>S5</td>\n",
       "      <td>4.0</td>\n",
       "    </tr>\n",
       "    <tr>\n",
       "      <th>10</th>\n",
       "      <td>692</td>\n",
       "      <td>11</td>\n",
       "      <td>294.0</td>\n",
       "      <td>NaN</td>\n",
       "      <td>Gate valve UV-6138 failure (valve closed)</td>\n",
       "      <td>Heater H-101 coils burnout; fire in heater H-1...</td>\n",
       "      <td>gas contamination, combustion products contami...</td>\n",
       "      <td>Pumping stop from feed drum V-101, level incre...</td>\n",
       "      <td>1. Gate valve UV-6138 position alarm_x000D_\\n2...</td>\n",
       "      <td>NaN</td>\n",
       "      <td>NaN</td>\n",
       "      <td>3.0</td>\n",
       "      <td>22.0</td>\n",
       "      <td>L2</td>\n",
       "      <td>S5</td>\n",
       "      <td>4.0</td>\n",
       "    </tr>\n",
       "  </tbody>\n",
       "</table>\n",
       "</div>"
      ],
      "text/plain": [
       "   ID_Hazop_Tbl Npp  ID_Uzel_word  Npp_tab  \\\n",
       "6           688   7         294.0      NaN   \n",
       "7           689   8         294.0      NaN   \n",
       "8           690   9         294.0      NaN   \n",
       "9           691  10         294.0      NaN   \n",
       "10          692  11         294.0      NaN   \n",
       "\n",
       "                                              Prichin  \\\n",
       "6   Flow control loop FIC-3113 failure (valve FV-3...   \n",
       "7           Gate valve UV-6101 failure (valve closed)   \n",
       "8                           Pump P-101A (P-101B) trip   \n",
       "9           Gate valve UV-6137 failure (valve closed)   \n",
       "10          Gate valve UV-6138 failure (valve closed)   \n",
       "\n",
       "                                         Posledstv_Zd  \\\n",
       "6                                                None   \n",
       "7   Pump P-101A (P-101B) breakdown; release of haz...   \n",
       "8   Heater H-101 coils burnout; fire in heater H-1...   \n",
       "9   Heater H-101 coils burnout; fire in heater H-1...   \n",
       "10  Heater H-101 coils burnout; fire in heater H-1...   \n",
       "\n",
       "                                       Posledstv_Ecol  \\\n",
       "6                                                None   \n",
       "7   gas contamination, combustion products contami...   \n",
       "8   gas contamination, combustion products contami...   \n",
       "9   gas contamination, combustion products contami...   \n",
       "10  gas contamination, combustion products contami...   \n",
       "\n",
       "                                       Posledstv_Econ  \\\n",
       "6   Heat medium flow stop to exchanger E-101-1/2 b...   \n",
       "7   Flow stop to feed drum V-101, stop of SR VGO a...   \n",
       "8   Pumping stop from feed drum V-101, level incre...   \n",
       "9   Pumping stop from feed drum V-101, level incre...   \n",
       "10  Pumping stop from feed drum V-101, level incre...   \n",
       "\n",
       "                                            Me_zashit  \\\n",
       "6   1. Alarm of maximum pressure drop on filter F-...   \n",
       "7   1. Gate valve UV-6101 position alarm_x000D_\\n2...   \n",
       "8   1. Alarm of pump P-101A (P-101B) operation_x00...   \n",
       "9   1. Gate valve UV-6137 position alarm_x000D_\\n2...   \n",
       "10  1. Gate valve UV-6138 position alarm_x000D_\\n2...   \n",
       "\n",
       "                                            Recommend Otvetstv  Uroven  Risk  \\\n",
       "6                                                 NaN      NaN     1.0   4.0   \n",
       "7                                                 NaN      NaN     2.0  13.0   \n",
       "8                                                 NaN      NaN     3.0  22.0   \n",
       "9   Review a necessity of check valve installation...   DL E&C     3.0  22.0   \n",
       "10                                                NaN      NaN     3.0  22.0   \n",
       "\n",
       "   Verojatn Posledstv  UrPosledstv  \n",
       "6        L4        S1          0.0  \n",
       "7        L3        S3          2.0  \n",
       "8        L2        S5          4.0  \n",
       "9        L2        S5          4.0  \n",
       "10       L2        S5          4.0  "
      ]
     },
     "execution_count": 12,
     "metadata": {},
     "output_type": "execute_result"
    }
   ],
   "source": [
    "#Selection of specific level names (S1-S5 - linked to the main object of research)\n",
    "S_values = ['S1', 'S2', 'S3', 'S4', 'S5']\n",
    "samples = table[table['Posledstv'].isin(S_values)]\n",
    "#Checking top 5\n",
    "samples.head(5)"
   ]
  },
  {
   "cell_type": "code",
   "execution_count": 13,
   "id": "3d3cb43f",
   "metadata": {
    "execution": {
     "iopub.execute_input": "2023-07-20T19:54:28.385175Z",
     "iopub.status.busy": "2023-07-20T19:54:28.384695Z",
     "iopub.status.idle": "2023-07-20T19:54:32.851177Z",
     "shell.execute_reply": "2023-07-20T19:54:32.849720Z"
    },
    "papermill": {
     "duration": 4.489195,
     "end_time": "2023-07-20T19:54:32.854509",
     "exception": false,
     "start_time": "2023-07-20T19:54:28.365314",
     "status": "completed"
    },
    "tags": []
   },
   "outputs": [],
   "source": [
    "#libs import\n",
    "import torch\n",
    "import torch.nn as nn\n",
    "import numpy as np\n",
    "\n",
    "from warnings import filterwarnings\n",
    "\n",
    "filterwarnings('ignore')"
   ]
  },
  {
   "cell_type": "code",
   "execution_count": 14,
   "id": "1f046fbd",
   "metadata": {
    "execution": {
     "iopub.execute_input": "2023-07-20T19:54:32.895425Z",
     "iopub.status.busy": "2023-07-20T19:54:32.894654Z",
     "iopub.status.idle": "2023-07-20T19:54:47.920075Z",
     "shell.execute_reply": "2023-07-20T19:54:47.918324Z"
    },
    "papermill": {
     "duration": 15.049719,
     "end_time": "2023-07-20T19:54:47.923473",
     "exception": false,
     "start_time": "2023-07-20T19:54:32.873754",
     "status": "completed"
    },
    "tags": []
   },
   "outputs": [],
   "source": [
    "#import AutoTokenizer & Bert-kind models\n",
    "from transformers import AutoTokenizer\n",
    "from transformers import BertModel  # https://huggingface.co/docs/transformers/model_doc/bert#transformers.BertModel\n",
    "from transformers import RobertaModel  # https://huggingface.co/docs/transformers/model_doc/roberta#transformers.RobertaModel\n",
    "from transformers import DistilBertModel  # https://huggingface.co/docs/transformers/model_doc/distilbert#transformers.DistilBertModel\n",
    "\n",
    "\n",
    "def get_model(model_name):\n",
    "    assert model_name in ['bert', 'roberta', 'distilbert']\n",
    "    \n",
    "    checkpoint_names = {\n",
    "        'bert': 'bert-base-cased',  # https://huggingface.co/bert-base-cased\n",
    "        'roberta': 'roberta-base',  # https://huggingface.co/roberta-base\n",
    "        'distilbert': 'distilbert-base-cased'  # https://huggingface.co/distilbert-base-cased\n",
    "    }\n",
    "    \n",
    "    model_classes = {\n",
    "        'bert': BertModel,\n",
    "        'roberta': RobertaModel,\n",
    "        'distilbert': DistilBertModel\n",
    "    }\n",
    "    \n",
    "    return AutoTokenizer.from_pretrained(checkpoint_names[model_name]), model_classes[model_name].from_pretrained(checkpoint_names[model_name])"
   ]
  },
  {
   "cell_type": "code",
   "execution_count": 15,
   "id": "15dad201",
   "metadata": {
    "execution": {
     "iopub.execute_input": "2023-07-20T19:54:47.963597Z",
     "iopub.status.busy": "2023-07-20T19:54:47.962531Z",
     "iopub.status.idle": "2023-07-20T19:54:52.821572Z",
     "shell.execute_reply": "2023-07-20T19:54:52.819789Z"
    },
    "papermill": {
     "duration": 4.884435,
     "end_time": "2023-07-20T19:54:52.826396",
     "exception": false,
     "start_time": "2023-07-20T19:54:47.941961",
     "status": "completed"
    },
    "tags": []
   },
   "outputs": [
    {
     "name": "stderr",
     "output_type": "stream",
     "text": [
      "Some weights of the model checkpoint at bert-base-cased were not used when initializing BertModel: ['cls.predictions.bias', 'cls.predictions.transform.dense.weight', 'cls.seq_relationship.weight', 'cls.predictions.transform.dense.bias', 'cls.seq_relationship.bias', 'cls.predictions.decoder.weight', 'cls.predictions.transform.LayerNorm.weight', 'cls.predictions.transform.LayerNorm.bias']\n",
      "- This IS expected if you are initializing BertModel from the checkpoint of a model trained on another task or with another architecture (e.g. initializing a BertForSequenceClassification model from a BertForPreTraining model).\n",
      "- This IS NOT expected if you are initializing BertModel from the checkpoint of a model that you expect to be exactly identical (initializing a BertForSequenceClassification model from a BertForSequenceClassification model).\n"
     ]
    }
   ],
   "source": [
    "#Select BERT model for the study\n",
    "tokenizer, model = get_model('bert')"
   ]
  },
  {
   "cell_type": "code",
   "execution_count": 16,
   "id": "31472ab2",
   "metadata": {
    "execution": {
     "iopub.execute_input": "2023-07-20T19:54:52.874121Z",
     "iopub.status.busy": "2023-07-20T19:54:52.873634Z",
     "iopub.status.idle": "2023-07-20T19:54:52.882521Z",
     "shell.execute_reply": "2023-07-20T19:54:52.881149Z"
    },
    "papermill": {
     "duration": 0.032475,
     "end_time": "2023-07-20T19:54:52.885339",
     "exception": false,
     "start_time": "2023-07-20T19:54:52.852864",
     "status": "completed"
    },
    "tags": []
   },
   "outputs": [
    {
     "data": {
      "text/plain": [
       "PreTrainedTokenizerFast(name_or_path='bert-base-cased', vocab_size=28996, model_max_len=512, is_fast=True, padding_side='right', truncation_side='right', special_tokens={'unk_token': '[UNK]', 'sep_token': '[SEP]', 'pad_token': '[PAD]', 'cls_token': '[CLS]', 'mask_token': '[MASK]'})"
      ]
     },
     "execution_count": 16,
     "metadata": {},
     "output_type": "execute_result"
    }
   ],
   "source": [
    "#What's inside the tokenizer - just for information\n",
    "tokenizer"
   ]
  },
  {
   "cell_type": "code",
   "execution_count": 17,
   "id": "6e213f1f",
   "metadata": {
    "execution": {
     "iopub.execute_input": "2023-07-20T19:54:52.925570Z",
     "iopub.status.busy": "2023-07-20T19:54:52.925063Z",
     "iopub.status.idle": "2023-07-20T19:54:53.992583Z",
     "shell.execute_reply": "2023-07-20T19:54:53.991387Z"
    },
    "papermill": {
     "duration": 1.091236,
     "end_time": "2023-07-20T19:54:53.995589",
     "exception": false,
     "start_time": "2023-07-20T19:54:52.904353",
     "status": "completed"
    },
    "tags": []
   },
   "outputs": [],
   "source": [
    "#DataCollator\n",
    "from transformers import DataCollatorWithPadding\n",
    "\n",
    "data_collator = DataCollatorWithPadding(tokenizer=tokenizer)"
   ]
  },
  {
   "cell_type": "code",
   "execution_count": 18,
   "id": "61eea576",
   "metadata": {
    "execution": {
     "iopub.execute_input": "2023-07-20T19:54:54.037827Z",
     "iopub.status.busy": "2023-07-20T19:54:54.037348Z",
     "iopub.status.idle": "2023-07-20T19:54:54.044865Z",
     "shell.execute_reply": "2023-07-20T19:54:54.042994Z"
    },
    "papermill": {
     "duration": 0.032449,
     "end_time": "2023-07-20T19:54:54.047509",
     "exception": false,
     "start_time": "2023-07-20T19:54:54.015060",
     "status": "completed"
    },
    "tags": []
   },
   "outputs": [
    {
     "name": "stdout",
     "output_type": "stream",
     "text": [
      "cuda:0\n"
     ]
    }
   ],
   "source": [
    "#Device selection. Works well enough with the CPU \n",
    "device = torch.device('cuda:0' if torch.cuda.is_available() else 'cpu')\n",
    "\n",
    "print(device)"
   ]
  },
  {
   "cell_type": "code",
   "execution_count": 19,
   "id": "3e310c26",
   "metadata": {
    "execution": {
     "iopub.execute_input": "2023-07-20T19:54:54.088452Z",
     "iopub.status.busy": "2023-07-20T19:54:54.087986Z",
     "iopub.status.idle": "2023-07-20T19:54:54.100802Z",
     "shell.execute_reply": "2023-07-20T19:54:54.099663Z"
    },
    "papermill": {
     "duration": 0.036324,
     "end_time": "2023-07-20T19:54:54.103606",
     "exception": false,
     "start_time": "2023-07-20T19:54:54.067282",
     "status": "completed"
    },
    "tags": []
   },
   "outputs": [],
   "source": [
    "#Load model to the device\n",
    "model = model.to(device)"
   ]
  },
  {
   "cell_type": "markdown",
   "id": "f8cea6e3",
   "metadata": {
    "papermill": {
     "duration": 0.019276,
     "end_time": "2023-07-20T19:54:54.141946",
     "exception": false,
     "start_time": "2023-07-20T19:54:54.122670",
     "status": "completed"
    },
    "tags": []
   },
   "source": [
    "# Data preprocessing /// Подготовка данных"
   ]
  },
  {
   "cell_type": "code",
   "execution_count": 20,
   "id": "43fdd7e4",
   "metadata": {
    "execution": {
     "iopub.execute_input": "2023-07-20T19:54:54.182844Z",
     "iopub.status.busy": "2023-07-20T19:54:54.182423Z",
     "iopub.status.idle": "2023-07-20T19:54:54.201493Z",
     "shell.execute_reply": "2023-07-20T19:54:54.200120Z"
    },
    "papermill": {
     "duration": 0.042283,
     "end_time": "2023-07-20T19:54:54.204196",
     "exception": false,
     "start_time": "2023-07-20T19:54:54.161913",
     "status": "completed"
    },
    "tags": []
   },
   "outputs": [
    {
     "data": {
      "text/html": [
       "<div>\n",
       "<style scoped>\n",
       "    .dataframe tbody tr th:only-of-type {\n",
       "        vertical-align: middle;\n",
       "    }\n",
       "\n",
       "    .dataframe tbody tr th {\n",
       "        vertical-align: top;\n",
       "    }\n",
       "\n",
       "    .dataframe thead th {\n",
       "        text-align: right;\n",
       "    }\n",
       "</style>\n",
       "<table border=\"1\" class=\"dataframe\">\n",
       "  <thead>\n",
       "    <tr style=\"text-align: right;\">\n",
       "      <th></th>\n",
       "      <th>Posledstv_Zd</th>\n",
       "      <th>Posledstv</th>\n",
       "    </tr>\n",
       "  </thead>\n",
       "  <tbody>\n",
       "    <tr>\n",
       "      <th>0</th>\n",
       "      <td>None</td>\n",
       "      <td>S1</td>\n",
       "    </tr>\n",
       "    <tr>\n",
       "      <th>1</th>\n",
       "      <td>Pump P-101A (P-101B) breakdown; release of haz...</td>\n",
       "      <td>S3</td>\n",
       "    </tr>\n",
       "    <tr>\n",
       "      <th>2</th>\n",
       "      <td>Heater H-101 coils burnout; fire in heater H-1...</td>\n",
       "      <td>S5</td>\n",
       "    </tr>\n",
       "    <tr>\n",
       "      <th>3</th>\n",
       "      <td>Heater H-101 coils burnout; fire in heater H-1...</td>\n",
       "      <td>S5</td>\n",
       "    </tr>\n",
       "    <tr>\n",
       "      <th>4</th>\n",
       "      <td>Heater H-101 coils burnout; fire in heater H-1...</td>\n",
       "      <td>S5</td>\n",
       "    </tr>\n",
       "  </tbody>\n",
       "</table>\n",
       "</div>"
      ],
      "text/plain": [
       "                                        Posledstv_Zd Posledstv\n",
       "0                                               None        S1\n",
       "1  Pump P-101A (P-101B) breakdown; release of haz...        S3\n",
       "2  Heater H-101 coils burnout; fire in heater H-1...        S5\n",
       "3  Heater H-101 coils burnout; fire in heater H-1...        S5\n",
       "4  Heater H-101 coils burnout; fire in heater H-1...        S5"
      ]
     },
     "execution_count": 20,
     "metadata": {},
     "output_type": "execute_result"
    }
   ],
   "source": [
    "#Select two columns - consequence description and severity levels\n",
    "samples = samples[['Posledstv_Zd', 'Posledstv']].dropna().reset_index(drop=True)\n",
    "samples.head()"
   ]
  },
  {
   "cell_type": "code",
   "execution_count": 21,
   "id": "ed5e8719",
   "metadata": {
    "execution": {
     "iopub.execute_input": "2023-07-20T19:54:54.244665Z",
     "iopub.status.busy": "2023-07-20T19:54:54.244240Z",
     "iopub.status.idle": "2023-07-20T19:54:54.253215Z",
     "shell.execute_reply": "2023-07-20T19:54:54.251975Z"
    },
    "papermill": {
     "duration": 0.031925,
     "end_time": "2023-07-20T19:54:54.255665",
     "exception": false,
     "start_time": "2023-07-20T19:54:54.223740",
     "status": "completed"
    },
    "tags": []
   },
   "outputs": [],
   "source": [
    "#Replace string values to int values\n",
    "samples['Posledstv'] = samples['Posledstv'].replace(S_values, [1, 2, 3, 4, 5])"
   ]
  },
  {
   "cell_type": "code",
   "execution_count": 22,
   "id": "83c0919a",
   "metadata": {
    "execution": {
     "iopub.execute_input": "2023-07-20T19:54:54.295925Z",
     "iopub.status.busy": "2023-07-20T19:54:54.295473Z",
     "iopub.status.idle": "2023-07-20T19:54:54.307287Z",
     "shell.execute_reply": "2023-07-20T19:54:54.305920Z"
    },
    "papermill": {
     "duration": 0.035132,
     "end_time": "2023-07-20T19:54:54.309860",
     "exception": false,
     "start_time": "2023-07-20T19:54:54.274728",
     "status": "completed"
    },
    "tags": []
   },
   "outputs": [
    {
     "data": {
      "text/html": [
       "<div>\n",
       "<style scoped>\n",
       "    .dataframe tbody tr th:only-of-type {\n",
       "        vertical-align: middle;\n",
       "    }\n",
       "\n",
       "    .dataframe tbody tr th {\n",
       "        vertical-align: top;\n",
       "    }\n",
       "\n",
       "    .dataframe thead th {\n",
       "        text-align: right;\n",
       "    }\n",
       "</style>\n",
       "<table border=\"1\" class=\"dataframe\">\n",
       "  <thead>\n",
       "    <tr style=\"text-align: right;\">\n",
       "      <th></th>\n",
       "      <th>Posledstv_Zd</th>\n",
       "      <th>Posledstv</th>\n",
       "    </tr>\n",
       "  </thead>\n",
       "  <tbody>\n",
       "    <tr>\n",
       "      <th>0</th>\n",
       "      <td>None</td>\n",
       "      <td>1</td>\n",
       "    </tr>\n",
       "    <tr>\n",
       "      <th>1</th>\n",
       "      <td>Pump P-101A (P-101B) breakdown; release of haz...</td>\n",
       "      <td>3</td>\n",
       "    </tr>\n",
       "    <tr>\n",
       "      <th>2</th>\n",
       "      <td>Heater H-101 coils burnout; fire in heater H-1...</td>\n",
       "      <td>5</td>\n",
       "    </tr>\n",
       "    <tr>\n",
       "      <th>3</th>\n",
       "      <td>Heater H-101 coils burnout; fire in heater H-1...</td>\n",
       "      <td>5</td>\n",
       "    </tr>\n",
       "    <tr>\n",
       "      <th>4</th>\n",
       "      <td>Heater H-101 coils burnout; fire in heater H-1...</td>\n",
       "      <td>5</td>\n",
       "    </tr>\n",
       "  </tbody>\n",
       "</table>\n",
       "</div>"
      ],
      "text/plain": [
       "                                        Posledstv_Zd  Posledstv\n",
       "0                                               None          1\n",
       "1  Pump P-101A (P-101B) breakdown; release of haz...          3\n",
       "2  Heater H-101 coils burnout; fire in heater H-1...          5\n",
       "3  Heater H-101 coils burnout; fire in heater H-1...          5\n",
       "4  Heater H-101 coils burnout; fire in heater H-1...          5"
      ]
     },
     "execution_count": 22,
     "metadata": {},
     "output_type": "execute_result"
    }
   ],
   "source": [
    "#samples2 used just as reserve var\n",
    "samples2 = samples\n",
    "#Checking edited column\n",
    "samples2.head(5)"
   ]
  },
  {
   "cell_type": "code",
   "execution_count": 23,
   "id": "8d0419e5",
   "metadata": {
    "execution": {
     "iopub.execute_input": "2023-07-20T19:54:54.351538Z",
     "iopub.status.busy": "2023-07-20T19:54:54.351106Z",
     "iopub.status.idle": "2023-07-20T19:54:54.358619Z",
     "shell.execute_reply": "2023-07-20T19:54:54.357410Z"
    },
    "papermill": {
     "duration": 0.031605,
     "end_time": "2023-07-20T19:54:54.361384",
     "exception": false,
     "start_time": "2023-07-20T19:54:54.329779",
     "status": "completed"
    },
    "tags": []
   },
   "outputs": [
    {
     "data": {
      "text/plain": [
       "['s_1', 's_2', 's_3', 's_4', 's_5']"
      ]
     },
     "execution_count": 23,
     "metadata": {},
     "output_type": "execute_result"
    }
   ],
   "source": [
    "#Divide column to the distinct class columns (OHE-kinda)\n",
    "severity_col = ['s_1', 's_2', 's_3', 's_4', 's_5']\n",
    "severity_col"
   ]
  },
  {
   "cell_type": "code",
   "execution_count": 24,
   "id": "4e4bafc0",
   "metadata": {
    "execution": {
     "iopub.execute_input": "2023-07-20T19:54:54.403662Z",
     "iopub.status.busy": "2023-07-20T19:54:54.403229Z",
     "iopub.status.idle": "2023-07-20T19:54:54.416610Z",
     "shell.execute_reply": "2023-07-20T19:54:54.415339Z"
    },
    "papermill": {
     "duration": 0.038776,
     "end_time": "2023-07-20T19:54:54.420297",
     "exception": false,
     "start_time": "2023-07-20T19:54:54.381521",
     "status": "completed"
    },
    "tags": []
   },
   "outputs": [],
   "source": [
    "#OHE\n",
    "ohe = pd.get_dummies(samples2['Posledstv'], prefix='s', drop_first=False)\n",
    "samples2 = pd.concat((samples.drop('Posledstv', axis=1), ohe), axis=1)"
   ]
  },
  {
   "cell_type": "code",
   "execution_count": 25,
   "id": "a2392c45",
   "metadata": {
    "execution": {
     "iopub.execute_input": "2023-07-20T19:54:54.462137Z",
     "iopub.status.busy": "2023-07-20T19:54:54.461652Z",
     "iopub.status.idle": "2023-07-20T19:54:54.475487Z",
     "shell.execute_reply": "2023-07-20T19:54:54.474203Z"
    },
    "papermill": {
     "duration": 0.038046,
     "end_time": "2023-07-20T19:54:54.478170",
     "exception": false,
     "start_time": "2023-07-20T19:54:54.440124",
     "status": "completed"
    },
    "tags": []
   },
   "outputs": [
    {
     "data": {
      "text/html": [
       "<div>\n",
       "<style scoped>\n",
       "    .dataframe tbody tr th:only-of-type {\n",
       "        vertical-align: middle;\n",
       "    }\n",
       "\n",
       "    .dataframe tbody tr th {\n",
       "        vertical-align: top;\n",
       "    }\n",
       "\n",
       "    .dataframe thead th {\n",
       "        text-align: right;\n",
       "    }\n",
       "</style>\n",
       "<table border=\"1\" class=\"dataframe\">\n",
       "  <thead>\n",
       "    <tr style=\"text-align: right;\">\n",
       "      <th></th>\n",
       "      <th>Posledstv_Zd</th>\n",
       "      <th>s_1</th>\n",
       "      <th>s_2</th>\n",
       "      <th>s_3</th>\n",
       "      <th>s_4</th>\n",
       "      <th>s_5</th>\n",
       "    </tr>\n",
       "  </thead>\n",
       "  <tbody>\n",
       "    <tr>\n",
       "      <th>0</th>\n",
       "      <td>None</td>\n",
       "      <td>1</td>\n",
       "      <td>0</td>\n",
       "      <td>0</td>\n",
       "      <td>0</td>\n",
       "      <td>0</td>\n",
       "    </tr>\n",
       "    <tr>\n",
       "      <th>1</th>\n",
       "      <td>Pump P-101A (P-101B) breakdown; release of haz...</td>\n",
       "      <td>0</td>\n",
       "      <td>0</td>\n",
       "      <td>1</td>\n",
       "      <td>0</td>\n",
       "      <td>0</td>\n",
       "    </tr>\n",
       "    <tr>\n",
       "      <th>2</th>\n",
       "      <td>Heater H-101 coils burnout; fire in heater H-1...</td>\n",
       "      <td>0</td>\n",
       "      <td>0</td>\n",
       "      <td>0</td>\n",
       "      <td>0</td>\n",
       "      <td>1</td>\n",
       "    </tr>\n",
       "    <tr>\n",
       "      <th>3</th>\n",
       "      <td>Heater H-101 coils burnout; fire in heater H-1...</td>\n",
       "      <td>0</td>\n",
       "      <td>0</td>\n",
       "      <td>0</td>\n",
       "      <td>0</td>\n",
       "      <td>1</td>\n",
       "    </tr>\n",
       "    <tr>\n",
       "      <th>4</th>\n",
       "      <td>Heater H-101 coils burnout; fire in heater H-1...</td>\n",
       "      <td>0</td>\n",
       "      <td>0</td>\n",
       "      <td>0</td>\n",
       "      <td>0</td>\n",
       "      <td>1</td>\n",
       "    </tr>\n",
       "  </tbody>\n",
       "</table>\n",
       "</div>"
      ],
      "text/plain": [
       "                                        Posledstv_Zd  s_1  s_2  s_3  s_4  s_5\n",
       "0                                               None    1    0    0    0    0\n",
       "1  Pump P-101A (P-101B) breakdown; release of haz...    0    0    1    0    0\n",
       "2  Heater H-101 coils burnout; fire in heater H-1...    0    0    0    0    1\n",
       "3  Heater H-101 coils burnout; fire in heater H-1...    0    0    0    0    1\n",
       "4  Heater H-101 coils burnout; fire in heater H-1...    0    0    0    0    1"
      ]
     },
     "execution_count": 25,
     "metadata": {},
     "output_type": "execute_result"
    }
   ],
   "source": [
    "#Checking top 5\n",
    "samples2.head(5)"
   ]
  },
  {
   "cell_type": "code",
   "execution_count": 26,
   "id": "4651f11d",
   "metadata": {
    "execution": {
     "iopub.execute_input": "2023-07-20T19:54:54.519811Z",
     "iopub.status.busy": "2023-07-20T19:54:54.519342Z",
     "iopub.status.idle": "2023-07-20T19:54:54.534120Z",
     "shell.execute_reply": "2023-07-20T19:54:54.533176Z"
    },
    "papermill": {
     "duration": 0.038767,
     "end_time": "2023-07-20T19:54:54.536791",
     "exception": false,
     "start_time": "2023-07-20T19:54:54.498024",
     "status": "completed"
    },
    "tags": []
   },
   "outputs": [
    {
     "data": {
      "text/html": [
       "<div>\n",
       "<style scoped>\n",
       "    .dataframe tbody tr th:only-of-type {\n",
       "        vertical-align: middle;\n",
       "    }\n",
       "\n",
       "    .dataframe tbody tr th {\n",
       "        vertical-align: top;\n",
       "    }\n",
       "\n",
       "    .dataframe thead th {\n",
       "        text-align: right;\n",
       "    }\n",
       "</style>\n",
       "<table border=\"1\" class=\"dataframe\">\n",
       "  <thead>\n",
       "    <tr style=\"text-align: right;\">\n",
       "      <th></th>\n",
       "      <th>Posledstv_Zd</th>\n",
       "      <th>s_1</th>\n",
       "      <th>s_2</th>\n",
       "      <th>s_3</th>\n",
       "      <th>s_4</th>\n",
       "      <th>s_5</th>\n",
       "      <th>labels</th>\n",
       "    </tr>\n",
       "  </thead>\n",
       "  <tbody>\n",
       "    <tr>\n",
       "      <th>0</th>\n",
       "      <td>None</td>\n",
       "      <td>1</td>\n",
       "      <td>0</td>\n",
       "      <td>0</td>\n",
       "      <td>0</td>\n",
       "      <td>0</td>\n",
       "      <td>0</td>\n",
       "    </tr>\n",
       "    <tr>\n",
       "      <th>1</th>\n",
       "      <td>Pump P-101A (P-101B) breakdown; release of haz...</td>\n",
       "      <td>0</td>\n",
       "      <td>0</td>\n",
       "      <td>1</td>\n",
       "      <td>0</td>\n",
       "      <td>0</td>\n",
       "      <td>0</td>\n",
       "    </tr>\n",
       "    <tr>\n",
       "      <th>2</th>\n",
       "      <td>Heater H-101 coils burnout; fire in heater H-1...</td>\n",
       "      <td>0</td>\n",
       "      <td>0</td>\n",
       "      <td>0</td>\n",
       "      <td>0</td>\n",
       "      <td>1</td>\n",
       "      <td>0</td>\n",
       "    </tr>\n",
       "    <tr>\n",
       "      <th>3</th>\n",
       "      <td>Heater H-101 coils burnout; fire in heater H-1...</td>\n",
       "      <td>0</td>\n",
       "      <td>0</td>\n",
       "      <td>0</td>\n",
       "      <td>0</td>\n",
       "      <td>1</td>\n",
       "      <td>0</td>\n",
       "    </tr>\n",
       "    <tr>\n",
       "      <th>4</th>\n",
       "      <td>Heater H-101 coils burnout; fire in heater H-1...</td>\n",
       "      <td>0</td>\n",
       "      <td>0</td>\n",
       "      <td>0</td>\n",
       "      <td>0</td>\n",
       "      <td>1</td>\n",
       "      <td>0</td>\n",
       "    </tr>\n",
       "  </tbody>\n",
       "</table>\n",
       "</div>"
      ],
      "text/plain": [
       "                                        Posledstv_Zd  s_1  s_2  s_3  s_4  s_5  \\\n",
       "0                                               None    1    0    0    0    0   \n",
       "1  Pump P-101A (P-101B) breakdown; release of haz...    0    0    1    0    0   \n",
       "2  Heater H-101 coils burnout; fire in heater H-1...    0    0    0    0    1   \n",
       "3  Heater H-101 coils burnout; fire in heater H-1...    0    0    0    0    1   \n",
       "4  Heater H-101 coils burnout; fire in heater H-1...    0    0    0    0    1   \n",
       "\n",
       "   labels  \n",
       "0       0  \n",
       "1       0  \n",
       "2       0  \n",
       "3       0  \n",
       "4       0  "
      ]
     },
     "execution_count": 26,
     "metadata": {},
     "output_type": "execute_result"
    }
   ],
   "source": [
    "#Create labels column, fill with zeros\n",
    "samples2['labels'] = 0\n",
    "samples2.head(5)"
   ]
  },
  {
   "cell_type": "code",
   "execution_count": 27,
   "id": "4ac94251",
   "metadata": {
    "execution": {
     "iopub.execute_input": "2023-07-20T19:54:54.579242Z",
     "iopub.status.busy": "2023-07-20T19:54:54.578682Z",
     "iopub.status.idle": "2023-07-20T19:54:54.586921Z",
     "shell.execute_reply": "2023-07-20T19:54:54.585690Z"
    },
    "papermill": {
     "duration": 0.032848,
     "end_time": "2023-07-20T19:54:54.589792",
     "exception": false,
     "start_time": "2023-07-20T19:54:54.556944",
     "status": "completed"
    },
    "tags": []
   },
   "outputs": [],
   "source": [
    "#Group values from S1-S5 column to the list and save in 'labels' column\n",
    "samples2['labels'] = samples2[['s_1', 's_2', 's_3', 's_4', 's_5']].values.tolist()"
   ]
  },
  {
   "cell_type": "code",
   "execution_count": 28,
   "id": "fdd45c26",
   "metadata": {
    "execution": {
     "iopub.execute_input": "2023-07-20T19:54:54.632484Z",
     "iopub.status.busy": "2023-07-20T19:54:54.632034Z",
     "iopub.status.idle": "2023-07-20T19:54:54.650575Z",
     "shell.execute_reply": "2023-07-20T19:54:54.649299Z"
    },
    "papermill": {
     "duration": 0.043111,
     "end_time": "2023-07-20T19:54:54.653333",
     "exception": false,
     "start_time": "2023-07-20T19:54:54.610222",
     "status": "completed"
    },
    "tags": []
   },
   "outputs": [
    {
     "data": {
      "text/html": [
       "<div>\n",
       "<style scoped>\n",
       "    .dataframe tbody tr th:only-of-type {\n",
       "        vertical-align: middle;\n",
       "    }\n",
       "\n",
       "    .dataframe tbody tr th {\n",
       "        vertical-align: top;\n",
       "    }\n",
       "\n",
       "    .dataframe thead th {\n",
       "        text-align: right;\n",
       "    }\n",
       "</style>\n",
       "<table border=\"1\" class=\"dataframe\">\n",
       "  <thead>\n",
       "    <tr style=\"text-align: right;\">\n",
       "      <th></th>\n",
       "      <th>Posledstv_Zd</th>\n",
       "      <th>s_1</th>\n",
       "      <th>s_2</th>\n",
       "      <th>s_3</th>\n",
       "      <th>s_4</th>\n",
       "      <th>s_5</th>\n",
       "      <th>labels</th>\n",
       "    </tr>\n",
       "  </thead>\n",
       "  <tbody>\n",
       "    <tr>\n",
       "      <th>0</th>\n",
       "      <td>None</td>\n",
       "      <td>1</td>\n",
       "      <td>0</td>\n",
       "      <td>0</td>\n",
       "      <td>0</td>\n",
       "      <td>0</td>\n",
       "      <td>[1, 0, 0, 0, 0]</td>\n",
       "    </tr>\n",
       "    <tr>\n",
       "      <th>1</th>\n",
       "      <td>Pump P-101A (P-101B) breakdown; release of haz...</td>\n",
       "      <td>0</td>\n",
       "      <td>0</td>\n",
       "      <td>1</td>\n",
       "      <td>0</td>\n",
       "      <td>0</td>\n",
       "      <td>[0, 0, 1, 0, 0]</td>\n",
       "    </tr>\n",
       "    <tr>\n",
       "      <th>2</th>\n",
       "      <td>Heater H-101 coils burnout; fire in heater H-1...</td>\n",
       "      <td>0</td>\n",
       "      <td>0</td>\n",
       "      <td>0</td>\n",
       "      <td>0</td>\n",
       "      <td>1</td>\n",
       "      <td>[0, 0, 0, 0, 1]</td>\n",
       "    </tr>\n",
       "    <tr>\n",
       "      <th>3</th>\n",
       "      <td>Heater H-101 coils burnout; fire in heater H-1...</td>\n",
       "      <td>0</td>\n",
       "      <td>0</td>\n",
       "      <td>0</td>\n",
       "      <td>0</td>\n",
       "      <td>1</td>\n",
       "      <td>[0, 0, 0, 0, 1]</td>\n",
       "    </tr>\n",
       "    <tr>\n",
       "      <th>4</th>\n",
       "      <td>Heater H-101 coils burnout; fire in heater H-1...</td>\n",
       "      <td>0</td>\n",
       "      <td>0</td>\n",
       "      <td>0</td>\n",
       "      <td>0</td>\n",
       "      <td>1</td>\n",
       "      <td>[0, 0, 0, 0, 1]</td>\n",
       "    </tr>\n",
       "  </tbody>\n",
       "</table>\n",
       "</div>"
      ],
      "text/plain": [
       "                                        Posledstv_Zd  s_1  s_2  s_3  s_4  s_5  \\\n",
       "0                                               None    1    0    0    0    0   \n",
       "1  Pump P-101A (P-101B) breakdown; release of haz...    0    0    1    0    0   \n",
       "2  Heater H-101 coils burnout; fire in heater H-1...    0    0    0    0    1   \n",
       "3  Heater H-101 coils burnout; fire in heater H-1...    0    0    0    0    1   \n",
       "4  Heater H-101 coils burnout; fire in heater H-1...    0    0    0    0    1   \n",
       "\n",
       "            labels  \n",
       "0  [1, 0, 0, 0, 0]  \n",
       "1  [0, 0, 1, 0, 0]  \n",
       "2  [0, 0, 0, 0, 1]  \n",
       "3  [0, 0, 0, 0, 1]  \n",
       "4  [0, 0, 0, 0, 1]  "
      ]
     },
     "execution_count": 28,
     "metadata": {},
     "output_type": "execute_result"
    }
   ],
   "source": [
    "#Checking top 5\n",
    "samples2.head(5)"
   ]
  },
  {
   "cell_type": "code",
   "execution_count": 29,
   "id": "1fc730c2",
   "metadata": {
    "execution": {
     "iopub.execute_input": "2023-07-20T19:54:54.695847Z",
     "iopub.status.busy": "2023-07-20T19:54:54.695394Z",
     "iopub.status.idle": "2023-07-20T19:54:54.711026Z",
     "shell.execute_reply": "2023-07-20T19:54:54.709688Z"
    },
    "papermill": {
     "duration": 0.039882,
     "end_time": "2023-07-20T19:54:54.713484",
     "exception": false,
     "start_time": "2023-07-20T19:54:54.673602",
     "status": "completed"
    },
    "tags": []
   },
   "outputs": [
    {
     "data": {
      "text/html": [
       "<div>\n",
       "<style scoped>\n",
       "    .dataframe tbody tr th:only-of-type {\n",
       "        vertical-align: middle;\n",
       "    }\n",
       "\n",
       "    .dataframe tbody tr th {\n",
       "        vertical-align: top;\n",
       "    }\n",
       "\n",
       "    .dataframe thead th {\n",
       "        text-align: right;\n",
       "    }\n",
       "</style>\n",
       "<table border=\"1\" class=\"dataframe\">\n",
       "  <thead>\n",
       "    <tr style=\"text-align: right;\">\n",
       "      <th></th>\n",
       "      <th>Posledstv_Zd</th>\n",
       "      <th>labels</th>\n",
       "    </tr>\n",
       "  </thead>\n",
       "  <tbody>\n",
       "    <tr>\n",
       "      <th>0</th>\n",
       "      <td>None</td>\n",
       "      <td>[1, 0, 0, 0, 0]</td>\n",
       "    </tr>\n",
       "    <tr>\n",
       "      <th>1</th>\n",
       "      <td>Pump P-101A (P-101B) breakdown; release of haz...</td>\n",
       "      <td>[0, 0, 1, 0, 0]</td>\n",
       "    </tr>\n",
       "    <tr>\n",
       "      <th>2</th>\n",
       "      <td>Heater H-101 coils burnout; fire in heater H-1...</td>\n",
       "      <td>[0, 0, 0, 0, 1]</td>\n",
       "    </tr>\n",
       "    <tr>\n",
       "      <th>3</th>\n",
       "      <td>Heater H-101 coils burnout; fire in heater H-1...</td>\n",
       "      <td>[0, 0, 0, 0, 1]</td>\n",
       "    </tr>\n",
       "    <tr>\n",
       "      <th>4</th>\n",
       "      <td>Heater H-101 coils burnout; fire in heater H-1...</td>\n",
       "      <td>[0, 0, 0, 0, 1]</td>\n",
       "    </tr>\n",
       "  </tbody>\n",
       "</table>\n",
       "</div>"
      ],
      "text/plain": [
       "                                        Posledstv_Zd           labels\n",
       "0                                               None  [1, 0, 0, 0, 0]\n",
       "1  Pump P-101A (P-101B) breakdown; release of haz...  [0, 0, 1, 0, 0]\n",
       "2  Heater H-101 coils burnout; fire in heater H-1...  [0, 0, 0, 0, 1]\n",
       "3  Heater H-101 coils burnout; fire in heater H-1...  [0, 0, 0, 0, 1]\n",
       "4  Heater H-101 coils burnout; fire in heater H-1...  [0, 0, 0, 0, 1]"
      ]
     },
     "execution_count": 29,
     "metadata": {},
     "output_type": "execute_result"
    }
   ],
   "source": [
    "#Drop severity levels column, save only 'labels'\n",
    "samples2 = samples2.drop(severity_col, axis=1)\n",
    "samples2.head(5)"
   ]
  },
  {
   "cell_type": "code",
   "execution_count": 30,
   "id": "b30e7b89",
   "metadata": {
    "execution": {
     "iopub.execute_input": "2023-07-20T19:54:54.757342Z",
     "iopub.status.busy": "2023-07-20T19:54:54.756841Z",
     "iopub.status.idle": "2023-07-20T19:54:55.322427Z",
     "shell.execute_reply": "2023-07-20T19:54:55.320993Z"
    },
    "papermill": {
     "duration": 0.591106,
     "end_time": "2023-07-20T19:54:55.325516",
     "exception": false,
     "start_time": "2023-07-20T19:54:54.734410",
     "status": "completed"
    },
    "tags": []
   },
   "outputs": [],
   "source": [
    "#Create dataset object from samples2 table\n",
    "from datasets import Dataset\n",
    "dataset = Dataset.from_pandas(samples2)\n",
    "dataset = dataset.train_test_split(test_size=0.3) #test_size=0.3 should be good enough"
   ]
  },
  {
   "cell_type": "code",
   "execution_count": 31,
   "id": "6eaeebb1",
   "metadata": {
    "execution": {
     "iopub.execute_input": "2023-07-20T19:54:55.369721Z",
     "iopub.status.busy": "2023-07-20T19:54:55.368873Z",
     "iopub.status.idle": "2023-07-20T19:54:55.377335Z",
     "shell.execute_reply": "2023-07-20T19:54:55.376013Z"
    },
    "papermill": {
     "duration": 0.033874,
     "end_time": "2023-07-20T19:54:55.380176",
     "exception": false,
     "start_time": "2023-07-20T19:54:55.346302",
     "status": "completed"
    },
    "tags": []
   },
   "outputs": [
    {
     "data": {
      "text/plain": [
       "DatasetDict({\n",
       "    train: Dataset({\n",
       "        features: ['Posledstv_Zd', 'labels'],\n",
       "        num_rows: 665\n",
       "    })\n",
       "    test: Dataset({\n",
       "        features: ['Posledstv_Zd', 'labels'],\n",
       "        num_rows: 286\n",
       "    })\n",
       "})"
      ]
     },
     "execution_count": 31,
     "metadata": {},
     "output_type": "execute_result"
    }
   ],
   "source": [
    "#Just for info - what's inside the dataset object\n",
    "dataset"
   ]
  },
  {
   "cell_type": "code",
   "execution_count": 32,
   "id": "ac63dbc3",
   "metadata": {
    "execution": {
     "iopub.execute_input": "2023-07-20T19:54:55.427150Z",
     "iopub.status.busy": "2023-07-20T19:54:55.425720Z",
     "iopub.status.idle": "2023-07-20T19:54:55.623426Z",
     "shell.execute_reply": "2023-07-20T19:54:55.622091Z"
    },
    "papermill": {
     "duration": 0.224418,
     "end_time": "2023-07-20T19:54:55.626540",
     "exception": false,
     "start_time": "2023-07-20T19:54:55.402122",
     "status": "completed"
    },
    "tags": []
   },
   "outputs": [
    {
     "data": {
      "application/vnd.jupyter.widget-view+json": {
       "model_id": "039a760ad019411cb6573f115269d57c",
       "version_major": 2,
       "version_minor": 0
      },
      "text/plain": [
       "  0%|          | 0/1 [00:00<?, ?ba/s]"
      ]
     },
     "metadata": {},
     "output_type": "display_data"
    },
    {
     "data": {
      "application/vnd.jupyter.widget-view+json": {
       "model_id": "fb69bae5c90a4cb9ab09219382cd88fc",
       "version_major": 2,
       "version_minor": 0
      },
      "text/plain": [
       "  0%|          | 0/1 [00:00<?, ?ba/s]"
      ]
     },
     "metadata": {},
     "output_type": "display_data"
    }
   ],
   "source": [
    "#Dataloader & tokenization staff\n",
    "from torch.utils.data import DataLoader\n",
    "\n",
    "def tokenization(example):\n",
    "    return tokenizer.batch_encode_plus(example['Posledstv_Zd'], add_special_tokens=True, return_token_type_ids=False, truncation=True)\n",
    "\n",
    "train_dataset = dataset['train'].map(tokenization, batched=True)\n",
    "test_dataset = dataset['test'].map(tokenization, batched=True)\n",
    "\n",
    "train_dataset.set_format(type=\"torch\", columns=[\"input_ids\", \"attention_mask\", 'labels'])\n",
    "test_dataset.set_format(type=\"torch\", columns=[\"input_ids\", \"attention_mask\", 'labels'])\n",
    "\n",
    "train_loader = DataLoader(train_dataset, batch_size=64, collate_fn=data_collator, pin_memory=True, shuffle=False)\n",
    "test_loader = DataLoader(test_dataset, batch_size=64, collate_fn=data_collator, pin_memory=True, shuffle=False)"
   ]
  },
  {
   "cell_type": "code",
   "execution_count": 33,
   "id": "2b3076d6",
   "metadata": {
    "execution": {
     "iopub.execute_input": "2023-07-20T19:54:55.672552Z",
     "iopub.status.busy": "2023-07-20T19:54:55.672097Z",
     "iopub.status.idle": "2023-07-20T19:54:55.681280Z",
     "shell.execute_reply": "2023-07-20T19:54:55.680064Z"
    },
    "papermill": {
     "duration": 0.035473,
     "end_time": "2023-07-20T19:54:55.684034",
     "exception": false,
     "start_time": "2023-07-20T19:54:55.648561",
     "status": "completed"
    },
    "tags": []
   },
   "outputs": [],
   "source": [
    "#def to get embeddings for train & test\n",
    "from tqdm import tqdm\n",
    "\n",
    "@torch.inference_mode()\n",
    "def get_embeddings_labels(model, loader):\n",
    "    model.eval()\n",
    "    \n",
    "    total_embeddings = []\n",
    "    labels = []\n",
    "    \n",
    "    \n",
    "    for batch in tqdm(loader):\n",
    "        labels.append(batch['labels'].unsqueeze(1))\n",
    "        \n",
    "        batch = {key: batch[key].to(device) for key in ['attention_mask', 'input_ids']}\n",
    "        #print(batch)\n",
    "\n",
    "        embeddings = model(**batch)['last_hidden_state'][:, 0, :]\n",
    "        total_embeddings.append(embeddings.cpu())\n",
    "\n",
    "\n",
    "    return torch.cat(total_embeddings, dim=0), torch.cat(labels, dim=0).to(torch.float32)"
   ]
  },
  {
   "cell_type": "code",
   "execution_count": 34,
   "id": "1acf8c78",
   "metadata": {
    "execution": {
     "iopub.execute_input": "2023-07-20T19:54:55.729040Z",
     "iopub.status.busy": "2023-07-20T19:54:55.728566Z",
     "iopub.status.idle": "2023-07-20T19:55:31.405342Z",
     "shell.execute_reply": "2023-07-20T19:55:31.403828Z"
    },
    "papermill": {
     "duration": 35.703058,
     "end_time": "2023-07-20T19:55:31.408787",
     "exception": false,
     "start_time": "2023-07-20T19:54:55.705729",
     "status": "completed"
    },
    "tags": []
   },
   "outputs": [
    {
     "name": "stderr",
     "output_type": "stream",
     "text": [
      "  0%|                                                                                           | 0/11 [00:00<?, ?it/s]You're using a BertTokenizerFast tokenizer. Please note that with a fast tokenizer, using the `__call__` method is faster than using a method to encode the text followed by a call to the `pad` method to get a padded encoding.\n",
      "100%|██████████████████████████████████████████████████████████████████████████████████| 11/11 [00:04<00:00,  2.43it/s]\n"
     ]
    }
   ],
   "source": [
    "#Get embeddings for train\n",
    "train_embeddings, train_labels = get_embeddings_labels(model, train_loader)"
   ]
  },
  {
   "cell_type": "code",
   "execution_count": 35,
   "id": "5de45bee",
   "metadata": {
    "execution": {
     "iopub.execute_input": "2023-07-20T19:55:31.459664Z",
     "iopub.status.busy": "2023-07-20T19:55:31.458304Z",
     "iopub.status.idle": "2023-07-20T19:55:47.384195Z",
     "shell.execute_reply": "2023-07-20T19:55:47.382784Z"
    },
    "papermill": {
     "duration": 15.955089,
     "end_time": "2023-07-20T19:55:47.387239",
     "exception": false,
     "start_time": "2023-07-20T19:55:31.432150",
     "status": "completed"
    },
    "tags": []
   },
   "outputs": [
    {
     "name": "stderr",
     "output_type": "stream",
     "text": [
      "100%|████████████████████████████████████████████████████████████████████████████████████| 5/5 [00:00<00:00, 22.94it/s]\n"
     ]
    }
   ],
   "source": [
    "#Get embeddings for test\n",
    "test_embeddings, test_labels = get_embeddings_labels(model, test_loader)"
   ]
  },
  {
   "cell_type": "code",
   "execution_count": 36,
   "id": "b5c064fe",
   "metadata": {
    "execution": {
     "iopub.execute_input": "2023-07-20T19:55:47.437963Z",
     "iopub.status.busy": "2023-07-20T19:55:47.437453Z",
     "iopub.status.idle": "2023-07-20T19:55:47.445411Z",
     "shell.execute_reply": "2023-07-20T19:55:47.443938Z"
    },
    "papermill": {
     "duration": 0.036518,
     "end_time": "2023-07-20T19:55:47.448333",
     "exception": false,
     "start_time": "2023-07-20T19:55:47.411815",
     "status": "completed"
    },
    "tags": []
   },
   "outputs": [
    {
     "data": {
      "text/plain": [
       "(torch.Size([665, 768]), torch.Size([665, 1, 5]))"
      ]
     },
     "execution_count": 36,
     "metadata": {},
     "output_type": "execute_result"
    }
   ],
   "source": [
    "#Check shapes for train\n",
    "train_embeddings.shape, train_labels.shape"
   ]
  },
  {
   "cell_type": "code",
   "execution_count": 37,
   "id": "87f2a3bd",
   "metadata": {
    "execution": {
     "iopub.execute_input": "2023-07-20T19:55:47.499623Z",
     "iopub.status.busy": "2023-07-20T19:55:47.498930Z",
     "iopub.status.idle": "2023-07-20T19:55:47.508011Z",
     "shell.execute_reply": "2023-07-20T19:55:47.506610Z"
    },
    "papermill": {
     "duration": 0.038321,
     "end_time": "2023-07-20T19:55:47.511128",
     "exception": false,
     "start_time": "2023-07-20T19:55:47.472807",
     "status": "completed"
    },
    "tags": []
   },
   "outputs": [
    {
     "data": {
      "text/plain": [
       "(torch.Size([286, 768]), torch.Size([286, 1, 5]))"
      ]
     },
     "execution_count": 37,
     "metadata": {},
     "output_type": "execute_result"
    }
   ],
   "source": [
    "#Check shapes for test\n",
    "test_embeddings.shape, test_labels.shape"
   ]
  },
  {
   "cell_type": "code",
   "execution_count": 38,
   "id": "b404c9ae",
   "metadata": {
    "execution": {
     "iopub.execute_input": "2023-07-20T19:55:47.562216Z",
     "iopub.status.busy": "2023-07-20T19:55:47.561752Z",
     "iopub.status.idle": "2023-07-20T19:55:47.566849Z",
     "shell.execute_reply": "2023-07-20T19:55:47.565648Z"
    },
    "papermill": {
     "duration": 0.03281,
     "end_time": "2023-07-20T19:55:47.569346",
     "exception": false,
     "start_time": "2023-07-20T19:55:47.536536",
     "status": "completed"
    },
    "tags": []
   },
   "outputs": [],
   "source": [
    "#train_embeddings[70]"
   ]
  },
  {
   "cell_type": "code",
   "execution_count": 39,
   "id": "642550fa",
   "metadata": {
    "execution": {
     "iopub.execute_input": "2023-07-20T19:55:47.618671Z",
     "iopub.status.busy": "2023-07-20T19:55:47.618224Z",
     "iopub.status.idle": "2023-07-20T19:55:47.631799Z",
     "shell.execute_reply": "2023-07-20T19:55:47.630651Z"
    },
    "papermill": {
     "duration": 0.041676,
     "end_time": "2023-07-20T19:55:47.634801",
     "exception": false,
     "start_time": "2023-07-20T19:55:47.593125",
     "status": "completed"
    },
    "tags": []
   },
   "outputs": [],
   "source": [
    "#Prep embeddings for the next nn model\n",
    "from torch.utils.data import TensorDataset\n",
    "from torch.utils.data import random_split\n",
    "\n",
    "dataset = TensorDataset(torch.cat([train_embeddings, test_embeddings], dim=0), torch.cat([train_labels, test_labels], dim=0))\n",
    "train_dataset, test_dataset = random_split(dataset, (int(len(dataset) * 0.8), len(dataset) - int(len(dataset) * 0.8)))\n",
    "\n",
    "train_loader = DataLoader(train_dataset, batch_size=128, pin_memory=True, shuffle=True)\n",
    "valid_loader = DataLoader(test_dataset, batch_size=128, pin_memory=True, shuffle=False)"
   ]
  },
  {
   "cell_type": "markdown",
   "id": "1f0e75f3",
   "metadata": {
    "papermill": {
     "duration": 0.023473,
     "end_time": "2023-07-20T19:55:47.681991",
     "exception": false,
     "start_time": "2023-07-20T19:55:47.658518",
     "status": "completed"
    },
    "tags": []
   },
   "source": [
    "# Model for multi-label classification // Модель для многотемной классификации"
   ]
  },
  {
   "cell_type": "code",
   "execution_count": 40,
   "id": "2c42ada5",
   "metadata": {
    "execution": {
     "iopub.execute_input": "2023-07-20T19:55:47.733550Z",
     "iopub.status.busy": "2023-07-20T19:55:47.733100Z",
     "iopub.status.idle": "2023-07-20T19:55:47.748319Z",
     "shell.execute_reply": "2023-07-20T19:55:47.746805Z"
    },
    "papermill": {
     "duration": 0.044634,
     "end_time": "2023-07-20T19:55:47.751457",
     "exception": false,
     "start_time": "2023-07-20T19:55:47.706823",
     "status": "completed"
    },
    "tags": []
   },
   "outputs": [],
   "source": [
    "#Setting up the nn model - 3 layers and dropout\n",
    "from torch.optim import Adam\n",
    "\n",
    "little_model = nn.Sequential(\n",
    "    nn.Linear(768, 768),\n",
    "    nn.ReLU(),\n",
    "    nn.Dropout(0.2),\n",
    "    nn.Linear(768, 5)\n",
    ")\n",
    "\n",
    "little_model = little_model.to(device)\n",
    "#Optimizer and loss-function\n",
    "optimizer = Adam(little_model.parameters(), lr=5e-3) \n",
    "loss_fn = nn.BCEWithLogitsLoss()"
   ]
  },
  {
   "cell_type": "code",
   "execution_count": 41,
   "id": "bbaeb520",
   "metadata": {
    "execution": {
     "iopub.execute_input": "2023-07-20T19:55:47.803000Z",
     "iopub.status.busy": "2023-07-20T19:55:47.802518Z",
     "iopub.status.idle": "2023-07-20T19:55:47.810319Z",
     "shell.execute_reply": "2023-07-20T19:55:47.808928Z"
    },
    "papermill": {
     "duration": 0.036691,
     "end_time": "2023-07-20T19:55:47.812740",
     "exception": false,
     "start_time": "2023-07-20T19:55:47.776049",
     "status": "completed"
    },
    "tags": []
   },
   "outputs": [
    {
     "data": {
      "text/plain": [
       "Sequential(\n",
       "  (0): Linear(in_features=768, out_features=768, bias=True)\n",
       "  (1): ReLU()\n",
       "  (2): Dropout(p=0.2, inplace=False)\n",
       "  (3): Linear(in_features=768, out_features=5, bias=True)\n",
       ")"
      ]
     },
     "execution_count": 41,
     "metadata": {},
     "output_type": "execute_result"
    }
   ],
   "source": [
    "#Checking the model\n",
    "little_model"
   ]
  },
  {
   "cell_type": "code",
   "execution_count": 42,
   "id": "a0a6691a",
   "metadata": {
    "execution": {
     "iopub.execute_input": "2023-07-20T19:55:47.863699Z",
     "iopub.status.busy": "2023-07-20T19:55:47.863193Z",
     "iopub.status.idle": "2023-07-20T19:55:47.874197Z",
     "shell.execute_reply": "2023-07-20T19:55:47.872714Z"
    },
    "papermill": {
     "duration": 0.040407,
     "end_time": "2023-07-20T19:55:47.877009",
     "exception": false,
     "start_time": "2023-07-20T19:55:47.836602",
     "status": "completed"
    },
    "tags": []
   },
   "outputs": [],
   "source": [
    "#Train the model\n",
    "def train(model):\n",
    "    model.train()\n",
    "    \n",
    "    total=0\n",
    "    correct=0\n",
    "    train_loss = 0\n",
    "    train_accuracy = 0\n",
    "\n",
    "    for x, y in tqdm(train_loader, desc='Train'):\n",
    "        x, y = x.to(device), y.to(device)\n",
    "        y=y.squeeze(1)\n",
    "\n",
    "        optimizer.zero_grad()\n",
    "\n",
    "        output = model(x)\n",
    "\n",
    "        loss = loss_fn(output, y.squeeze(1))\n",
    "\n",
    "        train_loss += loss.item()\n",
    "\n",
    "        rounded_preds = torch.round(torch.sigmoid(output))\n",
    "    \n",
    "        pos = torch.argmax(rounded_preds, 1) \n",
    "        y_true = torch.argmax(y, 1)\n",
    "        total += y.size(0)\n",
    "        correct += (pos == y_true).sum()\n",
    "        ###\n",
    "\n",
    "        loss.backward()\n",
    "\n",
    "        optimizer.step()\n",
    "\n",
    "    train_loss /= len(train_loader)\n",
    "    train_accuracy =  correct / total\n",
    "\n",
    "    return train_loss, train_accuracy"
   ]
  },
  {
   "cell_type": "code",
   "execution_count": 43,
   "id": "f8c9dada",
   "metadata": {
    "execution": {
     "iopub.execute_input": "2023-07-20T19:55:47.928847Z",
     "iopub.status.busy": "2023-07-20T19:55:47.928384Z",
     "iopub.status.idle": "2023-07-20T19:55:47.938690Z",
     "shell.execute_reply": "2023-07-20T19:55:47.937646Z"
    },
    "papermill": {
     "duration": 0.039905,
     "end_time": "2023-07-20T19:55:47.941583",
     "exception": false,
     "start_time": "2023-07-20T19:55:47.901678",
     "status": "completed"
    },
    "tags": []
   },
   "outputs": [],
   "source": [
    "#Evaluate the model (without traing)\n",
    "@torch.inference_mode()\n",
    "def evaluate(model, loader):\n",
    "    model.eval()\n",
    "    \n",
    "    total=0\n",
    "    correct=0\n",
    "    total_loss = 0\n",
    "    total_accuracy = 0\n",
    "\n",
    "    for x, y in tqdm(loader, desc='Evaluation'):\n",
    "        x, y = x.to(device), y.to(device)\n",
    "\n",
    "        y=y.squeeze(1)\n",
    "        output = model(x)\n",
    "\n",
    "        loss = loss_fn(output, y.squeeze(1))\n",
    "\n",
    "        total_loss += loss.item()\n",
    "        \n",
    "        rounded_preds = torch.round(torch.sigmoid(output))\n",
    "    \n",
    "        pos = torch.argmax(rounded_preds, 1) \n",
    "        y_true = torch.argmax(y, 1)\n",
    "        total += y.size(0)\n",
    "        correct += (pos == y_true).sum()\n",
    "\n",
    "    total_loss /= len(loader)\n",
    "    total_accuracy =  correct / total\n",
    "    \n",
    "    return total_loss, total_accuracy"
   ]
  },
  {
   "cell_type": "code",
   "execution_count": 44,
   "id": "0b680069",
   "metadata": {
    "execution": {
     "iopub.execute_input": "2023-07-20T19:55:47.992696Z",
     "iopub.status.busy": "2023-07-20T19:55:47.992219Z",
     "iopub.status.idle": "2023-07-20T19:55:48.002926Z",
     "shell.execute_reply": "2023-07-20T19:55:48.001943Z"
    },
    "papermill": {
     "duration": 0.039649,
     "end_time": "2023-07-20T19:55:48.005769",
     "exception": false,
     "start_time": "2023-07-20T19:55:47.966120",
     "status": "completed"
    },
    "tags": []
   },
   "outputs": [],
   "source": [
    "#Plotting stats\n",
    "import matplotlib.pyplot as plt\n",
    "from IPython.display import clear_output\n",
    "\n",
    "\n",
    "def plot_stats(\n",
    "    train_loss: list[float],\n",
    "    valid_loss: list[float],\n",
    "    train_accuracy: list[float],\n",
    "    valid_accuracy: list[float],\n",
    "    title: str\n",
    "):\n",
    "    plt.figure(figsize=(16, 8))\n",
    "\n",
    "    plt.title(title + ' функция потерь')\n",
    "\n",
    "    plt.plot(train_loss, label='Функция потерь (тренировочные)') #Train loss\n",
    "    plt.plot(valid_loss, label='Функция потерь (тестовые)') #Valid loss\n",
    "    plt.legend()\n",
    "    plt.grid()\n",
    "\n",
    "    plt.show()\n",
    "\n",
    "    plt.figure(figsize=(16, 8))\n",
    "\n",
    "    plt.title(title + ' точность')\n",
    "    \n",
    "    plt.plot(train_accuracy, label='Точность (тренировочные)') #Train accuracy\n",
    "    plt.plot(valid_accuracy, label='Точность (тестовые)') #Valid accuracy\n",
    "    plt.legend()\n",
    "    plt.grid()\n",
    "\n",
    "    plt.show()\n",
    "    print(train_accuracy[-1], valid_accuracy[-1])"
   ]
  },
  {
   "cell_type": "code",
   "execution_count": 45,
   "id": "31f69452",
   "metadata": {
    "execution": {
     "iopub.execute_input": "2023-07-20T19:55:48.056536Z",
     "iopub.status.busy": "2023-07-20T19:55:48.056043Z",
     "iopub.status.idle": "2023-07-20T19:55:48.065611Z",
     "shell.execute_reply": "2023-07-20T19:55:48.064577Z"
    },
    "papermill": {
     "duration": 0.038431,
     "end_time": "2023-07-20T19:55:48.068796",
     "exception": false,
     "start_time": "2023-07-20T19:55:48.030365",
     "status": "completed"
    },
    "tags": []
   },
   "outputs": [],
   "source": [
    "#Cycle for the model training\n",
    "def whole_train_valid_cycle(model, num_epochs, title):\n",
    "    train_loss_history, valid_loss_history = [], []\n",
    "    train_accuracy_history, valid_accuracy_history = [], []\n",
    "\n",
    "    for epoch in range(num_epochs):\n",
    "        train_loss, train_accuracy = train(model)\n",
    "        valid_loss, valid_accuracy = evaluate(model, valid_loader)\n",
    "\n",
    "        train_loss_history.append(train_loss)\n",
    "        valid_loss_history.append(valid_loss)\n",
    "\n",
    "        train_accuracy_history.append(train_accuracy)\n",
    "        valid_accuracy_history.append(valid_accuracy)\n",
    "\n",
    "        clear_output()\n",
    "\n",
    "        plot_stats(\n",
    "            train_loss_history, valid_loss_history,\n",
    "            train_accuracy_history, valid_accuracy_history,\n",
    "            title\n",
    "        )"
   ]
  },
  {
   "cell_type": "code",
   "execution_count": 46,
   "id": "2456c4d4",
   "metadata": {
    "execution": {
     "iopub.execute_input": "2023-07-20T19:55:48.126109Z",
     "iopub.status.busy": "2023-07-20T19:55:48.125243Z",
     "iopub.status.idle": "2023-07-20T19:56:05.519424Z",
     "shell.execute_reply": "2023-07-20T19:56:05.517471Z"
    },
    "papermill": {
     "duration": 17.426793,
     "end_time": "2023-07-20T19:56:05.522529",
     "exception": false,
     "start_time": "2023-07-20T19:55:48.095736",
     "status": "completed"
    },
    "tags": []
   },
   "outputs": [
    {
     "data": {
      "image/png": "[encoded data removed]",
      "text/plain": [
       "<Figure size 1152x576 with 1 Axes>"
      ]
     },
     "metadata": {
      "needs_background": "light"
     },
     "output_type": "display_data"
    },
    {
     "ename": "TypeError",
     "evalue": "can't convert cuda:0 device type tensor to numpy. Use Tensor.cpu() to copy the tensor to host memory first.",
     "output_type": "error",
     "traceback": [
      "\u001b[1;31m---------------------------------------------------------------------------\u001b[0m",
      "\u001b[1;31mTypeError\u001b[0m                                 Traceback (most recent call last)",
      "Input \u001b[1;32mIn [46]\u001b[0m, in \u001b[0;36m<cell line: 2>\u001b[1;34m()\u001b[0m\n\u001b[0;32m      1\u001b[0m \u001b[38;5;66;03m#Initiate model training\u001b[39;00m\n\u001b[1;32m----> 2\u001b[0m \u001b[43mwhole_train_valid_cycle\u001b[49m\u001b[43m(\u001b[49m\u001b[43mlittle_model\u001b[49m\u001b[43m,\u001b[49m\u001b[43m \u001b[49m\u001b[38;5;241;43m20\u001b[39;49m\u001b[43m,\u001b[49m\u001b[43m \u001b[49m\u001b[38;5;124;43m'\u001b[39;49m\u001b[38;5;124;43mBERT\u001b[39;49m\u001b[38;5;124;43m'\u001b[39;49m\u001b[43m)\u001b[49m\n",
      "Input \u001b[1;32mIn [45]\u001b[0m, in \u001b[0;36mwhole_train_valid_cycle\u001b[1;34m(model, num_epochs, title)\u001b[0m\n\u001b[0;32m     14\u001b[0m valid_accuracy_history\u001b[38;5;241m.\u001b[39mappend(valid_accuracy)\n\u001b[0;32m     16\u001b[0m clear_output()\n\u001b[1;32m---> 18\u001b[0m \u001b[43mplot_stats\u001b[49m\u001b[43m(\u001b[49m\n\u001b[0;32m     19\u001b[0m \u001b[43m    \u001b[49m\u001b[43mtrain_loss_history\u001b[49m\u001b[43m,\u001b[49m\u001b[43m \u001b[49m\u001b[43mvalid_loss_history\u001b[49m\u001b[43m,\u001b[49m\n\u001b[0;32m     20\u001b[0m \u001b[43m    \u001b[49m\u001b[43mtrain_accuracy_history\u001b[49m\u001b[43m,\u001b[49m\u001b[43m \u001b[49m\u001b[43mvalid_accuracy_history\u001b[49m\u001b[43m,\u001b[49m\n\u001b[0;32m     21\u001b[0m \u001b[43m    \u001b[49m\u001b[43mtitle\u001b[49m\n\u001b[0;32m     22\u001b[0m \u001b[43m\u001b[49m\u001b[43m)\u001b[49m\n",
      "Input \u001b[1;32mIn [44]\u001b[0m, in \u001b[0;36mplot_stats\u001b[1;34m(train_loss, valid_loss, train_accuracy, valid_accuracy, title)\u001b[0m\n\u001b[0;32m     24\u001b[0m plt\u001b[38;5;241m.\u001b[39mfigure(figsize\u001b[38;5;241m=\u001b[39m(\u001b[38;5;241m16\u001b[39m, \u001b[38;5;241m8\u001b[39m))\n\u001b[0;32m     26\u001b[0m plt\u001b[38;5;241m.\u001b[39mtitle(title \u001b[38;5;241m+\u001b[39m \u001b[38;5;124m'\u001b[39m\u001b[38;5;124m точность\u001b[39m\u001b[38;5;124m'\u001b[39m)\n\u001b[1;32m---> 28\u001b[0m \u001b[43mplt\u001b[49m\u001b[38;5;241;43m.\u001b[39;49m\u001b[43mplot\u001b[49m\u001b[43m(\u001b[49m\u001b[43mtrain_accuracy\u001b[49m\u001b[43m,\u001b[49m\u001b[43m \u001b[49m\u001b[43mlabel\u001b[49m\u001b[38;5;241;43m=\u001b[39;49m\u001b[38;5;124;43m'\u001b[39;49m\u001b[38;5;124;43mТочность (тренировочные)\u001b[39;49m\u001b[38;5;124;43m'\u001b[39;49m\u001b[43m)\u001b[49m \u001b[38;5;66;03m#Train accuracy\u001b[39;00m\n\u001b[0;32m     29\u001b[0m plt\u001b[38;5;241m.\u001b[39mplot(valid_accuracy, label\u001b[38;5;241m=\u001b[39m\u001b[38;5;124m'\u001b[39m\u001b[38;5;124mТочность (тестовые)\u001b[39m\u001b[38;5;124m'\u001b[39m) \u001b[38;5;66;03m#Valid accuracy\u001b[39;00m\n\u001b[0;32m     30\u001b[0m plt\u001b[38;5;241m.\u001b[39mlegend()\n",
      "File \u001b[1;32m~\\anaconda3\\lib\\site-packages\\matplotlib\\pyplot.py:2757\u001b[0m, in \u001b[0;36mplot\u001b[1;34m(scalex, scaley, data, *args, **kwargs)\u001b[0m\n\u001b[0;32m   2755\u001b[0m \u001b[38;5;129m@_copy_docstring_and_deprecators\u001b[39m(Axes\u001b[38;5;241m.\u001b[39mplot)\n\u001b[0;32m   2756\u001b[0m \u001b[38;5;28;01mdef\u001b[39;00m \u001b[38;5;21mplot\u001b[39m(\u001b[38;5;241m*\u001b[39margs, scalex\u001b[38;5;241m=\u001b[39m\u001b[38;5;28;01mTrue\u001b[39;00m, scaley\u001b[38;5;241m=\u001b[39m\u001b[38;5;28;01mTrue\u001b[39;00m, data\u001b[38;5;241m=\u001b[39m\u001b[38;5;28;01mNone\u001b[39;00m, \u001b[38;5;241m*\u001b[39m\u001b[38;5;241m*\u001b[39mkwargs):\n\u001b[1;32m-> 2757\u001b[0m     \u001b[38;5;28;01mreturn\u001b[39;00m gca()\u001b[38;5;241m.\u001b[39mplot(\n\u001b[0;32m   2758\u001b[0m         \u001b[38;5;241m*\u001b[39margs, scalex\u001b[38;5;241m=\u001b[39mscalex, scaley\u001b[38;5;241m=\u001b[39mscaley,\n\u001b[0;32m   2759\u001b[0m         \u001b[38;5;241m*\u001b[39m\u001b[38;5;241m*\u001b[39m({\u001b[38;5;124m\"\u001b[39m\u001b[38;5;124mdata\u001b[39m\u001b[38;5;124m\"\u001b[39m: data} \u001b[38;5;28;01mif\u001b[39;00m data \u001b[38;5;129;01mis\u001b[39;00m \u001b[38;5;129;01mnot\u001b[39;00m \u001b[38;5;28;01mNone\u001b[39;00m \u001b[38;5;28;01melse\u001b[39;00m {}), \u001b[38;5;241m*\u001b[39m\u001b[38;5;241m*\u001b[39mkwargs)\n",
      "File \u001b[1;32m~\\anaconda3\\lib\\site-packages\\matplotlib\\axes\\_axes.py:1632\u001b[0m, in \u001b[0;36mAxes.plot\u001b[1;34m(self, scalex, scaley, data, *args, **kwargs)\u001b[0m\n\u001b[0;32m   1390\u001b[0m \u001b[38;5;124;03m\"\"\"\u001b[39;00m\n\u001b[0;32m   1391\u001b[0m \u001b[38;5;124;03mPlot y versus x as lines and/or markers.\u001b[39;00m\n\u001b[0;32m   1392\u001b[0m \n\u001b[1;32m   (...)\u001b[0m\n\u001b[0;32m   1629\u001b[0m \u001b[38;5;124;03m(``'green'``) or hex strings (``'#008000'``).\u001b[39;00m\n\u001b[0;32m   1630\u001b[0m \u001b[38;5;124;03m\"\"\"\u001b[39;00m\n\u001b[0;32m   1631\u001b[0m kwargs \u001b[38;5;241m=\u001b[39m cbook\u001b[38;5;241m.\u001b[39mnormalize_kwargs(kwargs, mlines\u001b[38;5;241m.\u001b[39mLine2D)\n\u001b[1;32m-> 1632\u001b[0m lines \u001b[38;5;241m=\u001b[39m [\u001b[38;5;241m*\u001b[39m\u001b[38;5;28mself\u001b[39m\u001b[38;5;241m.\u001b[39m_get_lines(\u001b[38;5;241m*\u001b[39margs, data\u001b[38;5;241m=\u001b[39mdata, \u001b[38;5;241m*\u001b[39m\u001b[38;5;241m*\u001b[39mkwargs)]\n\u001b[0;32m   1633\u001b[0m \u001b[38;5;28;01mfor\u001b[39;00m line \u001b[38;5;129;01min\u001b[39;00m lines:\n\u001b[0;32m   1634\u001b[0m     \u001b[38;5;28mself\u001b[39m\u001b[38;5;241m.\u001b[39madd_line(line)\n",
      "File \u001b[1;32m~\\anaconda3\\lib\\site-packages\\matplotlib\\axes\\_base.py:312\u001b[0m, in \u001b[0;36m_process_plot_var_args.__call__\u001b[1;34m(self, data, *args, **kwargs)\u001b[0m\n\u001b[0;32m    310\u001b[0m     this \u001b[38;5;241m+\u001b[39m\u001b[38;5;241m=\u001b[39m args[\u001b[38;5;241m0\u001b[39m],\n\u001b[0;32m    311\u001b[0m     args \u001b[38;5;241m=\u001b[39m args[\u001b[38;5;241m1\u001b[39m:]\n\u001b[1;32m--> 312\u001b[0m \u001b[38;5;28;01myield from\u001b[39;00m \u001b[38;5;28;43mself\u001b[39;49m\u001b[38;5;241;43m.\u001b[39;49m\u001b[43m_plot_args\u001b[49m\u001b[43m(\u001b[49m\u001b[43mthis\u001b[49m\u001b[43m,\u001b[49m\u001b[43m \u001b[49m\u001b[43mkwargs\u001b[49m\u001b[43m)\u001b[49m\n",
      "File \u001b[1;32m~\\anaconda3\\lib\\site-packages\\matplotlib\\axes\\_base.py:490\u001b[0m, in \u001b[0;36m_process_plot_var_args._plot_args\u001b[1;34m(self, tup, kwargs, return_kwargs)\u001b[0m\n\u001b[0;32m    488\u001b[0m     y \u001b[38;5;241m=\u001b[39m _check_1d(xy[\u001b[38;5;241m1\u001b[39m])\n\u001b[0;32m    489\u001b[0m \u001b[38;5;28;01melse\u001b[39;00m:\n\u001b[1;32m--> 490\u001b[0m     x, y \u001b[38;5;241m=\u001b[39m \u001b[43mindex_of\u001b[49m\u001b[43m(\u001b[49m\u001b[43mxy\u001b[49m\u001b[43m[\u001b[49m\u001b[38;5;241;43m-\u001b[39;49m\u001b[38;5;241;43m1\u001b[39;49m\u001b[43m]\u001b[49m\u001b[43m)\u001b[49m\n\u001b[0;32m    492\u001b[0m \u001b[38;5;28;01mif\u001b[39;00m \u001b[38;5;28mself\u001b[39m\u001b[38;5;241m.\u001b[39maxes\u001b[38;5;241m.\u001b[39mxaxis \u001b[38;5;129;01mis\u001b[39;00m \u001b[38;5;129;01mnot\u001b[39;00m \u001b[38;5;28;01mNone\u001b[39;00m:\n\u001b[0;32m    493\u001b[0m     \u001b[38;5;28mself\u001b[39m\u001b[38;5;241m.\u001b[39maxes\u001b[38;5;241m.\u001b[39mxaxis\u001b[38;5;241m.\u001b[39mupdate_units(x)\n",
      "File \u001b[1;32m~\\anaconda3\\lib\\site-packages\\matplotlib\\cbook\\__init__.py:1652\u001b[0m, in \u001b[0;36mindex_of\u001b[1;34m(y)\u001b[0m\n\u001b[0;32m   1650\u001b[0m     \u001b[38;5;28;01mpass\u001b[39;00m\n\u001b[0;32m   1651\u001b[0m \u001b[38;5;28;01mtry\u001b[39;00m:\n\u001b[1;32m-> 1652\u001b[0m     y \u001b[38;5;241m=\u001b[39m \u001b[43m_check_1d\u001b[49m\u001b[43m(\u001b[49m\u001b[43my\u001b[49m\u001b[43m)\u001b[49m\n\u001b[0;32m   1653\u001b[0m \u001b[38;5;28;01mexcept\u001b[39;00m (np\u001b[38;5;241m.\u001b[39mVisibleDeprecationWarning, \u001b[38;5;167;01mValueError\u001b[39;00m):\n\u001b[0;32m   1654\u001b[0m     \u001b[38;5;66;03m# NumPy 1.19 will warn on ragged input, and we can't actually use it.\u001b[39;00m\n\u001b[0;32m   1655\u001b[0m     \u001b[38;5;28;01mpass\u001b[39;00m\n",
      "File \u001b[1;32m~\\anaconda3\\lib\\site-packages\\matplotlib\\cbook\\__init__.py:1304\u001b[0m, in \u001b[0;36m_check_1d\u001b[1;34m(x)\u001b[0m\n\u001b[0;32m   1302\u001b[0m \u001b[38;5;124;03m\"\"\"Convert scalars to 1D arrays; pass-through arrays as is.\"\"\"\u001b[39;00m\n\u001b[0;32m   1303\u001b[0m \u001b[38;5;28;01mif\u001b[39;00m \u001b[38;5;129;01mnot\u001b[39;00m \u001b[38;5;28mhasattr\u001b[39m(x, \u001b[38;5;124m'\u001b[39m\u001b[38;5;124mshape\u001b[39m\u001b[38;5;124m'\u001b[39m) \u001b[38;5;129;01mor\u001b[39;00m \u001b[38;5;28mlen\u001b[39m(x\u001b[38;5;241m.\u001b[39mshape) \u001b[38;5;241m<\u001b[39m \u001b[38;5;241m1\u001b[39m:\n\u001b[1;32m-> 1304\u001b[0m     \u001b[38;5;28;01mreturn\u001b[39;00m \u001b[43mnp\u001b[49m\u001b[38;5;241;43m.\u001b[39;49m\u001b[43matleast_1d\u001b[49m\u001b[43m(\u001b[49m\u001b[43mx\u001b[49m\u001b[43m)\u001b[49m\n\u001b[0;32m   1305\u001b[0m \u001b[38;5;28;01melse\u001b[39;00m:\n\u001b[0;32m   1306\u001b[0m     \u001b[38;5;28;01mtry\u001b[39;00m:\n\u001b[0;32m   1307\u001b[0m         \u001b[38;5;66;03m# work around\u001b[39;00m\n\u001b[0;32m   1308\u001b[0m         \u001b[38;5;66;03m# https://github.com/pandas-dev/pandas/issues/27775 which\u001b[39;00m\n\u001b[1;32m   (...)\u001b[0m\n\u001b[0;32m   1319\u001b[0m         \u001b[38;5;66;03m# This code should correctly identify and coerce to a\u001b[39;00m\n\u001b[0;32m   1320\u001b[0m         \u001b[38;5;66;03m# numpy array all pandas versions.\u001b[39;00m\n",
      "File \u001b[1;32m<__array_function__ internals>:5\u001b[0m, in \u001b[0;36matleast_1d\u001b[1;34m(*args, **kwargs)\u001b[0m\n",
      "File \u001b[1;32m~\\anaconda3\\lib\\site-packages\\numpy\\core\\shape_base.py:65\u001b[0m, in \u001b[0;36matleast_1d\u001b[1;34m(*arys)\u001b[0m\n\u001b[0;32m     63\u001b[0m res \u001b[38;5;241m=\u001b[39m []\n\u001b[0;32m     64\u001b[0m \u001b[38;5;28;01mfor\u001b[39;00m ary \u001b[38;5;129;01min\u001b[39;00m arys:\n\u001b[1;32m---> 65\u001b[0m     ary \u001b[38;5;241m=\u001b[39m \u001b[43masanyarray\u001b[49m\u001b[43m(\u001b[49m\u001b[43mary\u001b[49m\u001b[43m)\u001b[49m\n\u001b[0;32m     66\u001b[0m     \u001b[38;5;28;01mif\u001b[39;00m ary\u001b[38;5;241m.\u001b[39mndim \u001b[38;5;241m==\u001b[39m \u001b[38;5;241m0\u001b[39m:\n\u001b[0;32m     67\u001b[0m         result \u001b[38;5;241m=\u001b[39m ary\u001b[38;5;241m.\u001b[39mreshape(\u001b[38;5;241m1\u001b[39m)\n",
      "File \u001b[1;32m~\\anaconda3\\lib\\site-packages\\torch\\_tensor.py:1030\u001b[0m, in \u001b[0;36mTensor.__array__\u001b[1;34m(self, dtype)\u001b[0m\n\u001b[0;32m   1028\u001b[0m     \u001b[38;5;28;01mreturn\u001b[39;00m handle_torch_function(Tensor\u001b[38;5;241m.\u001b[39m__array__, (\u001b[38;5;28mself\u001b[39m,), \u001b[38;5;28mself\u001b[39m, dtype\u001b[38;5;241m=\u001b[39mdtype)\n\u001b[0;32m   1029\u001b[0m \u001b[38;5;28;01mif\u001b[39;00m dtype \u001b[38;5;129;01mis\u001b[39;00m \u001b[38;5;28;01mNone\u001b[39;00m:\n\u001b[1;32m-> 1030\u001b[0m     \u001b[38;5;28;01mreturn\u001b[39;00m \u001b[38;5;28;43mself\u001b[39;49m\u001b[38;5;241;43m.\u001b[39;49m\u001b[43mnumpy\u001b[49m\u001b[43m(\u001b[49m\u001b[43m)\u001b[49m\n\u001b[0;32m   1031\u001b[0m \u001b[38;5;28;01melse\u001b[39;00m:\n\u001b[0;32m   1032\u001b[0m     \u001b[38;5;28;01mreturn\u001b[39;00m \u001b[38;5;28mself\u001b[39m\u001b[38;5;241m.\u001b[39mnumpy()\u001b[38;5;241m.\u001b[39mastype(dtype, copy\u001b[38;5;241m=\u001b[39m\u001b[38;5;28;01mFalse\u001b[39;00m)\n",
      "\u001b[1;31mTypeError\u001b[0m: can't convert cuda:0 device type tensor to numpy. Use Tensor.cpu() to copy the tensor to host memory first."
     ]
    },
    {
     "data": {
      "image/png": "[encoded data removed]",
      "text/plain": [
       "<Figure size 1152x576 with 1 Axes>"
      ]
     },
     "metadata": {
      "needs_background": "light"
     },
     "output_type": "display_data"
    }
   ],
   "source": [
    "#Initiate model training\n",
    "whole_train_valid_cycle(little_model, 20, 'BERT')"
   ]
  },
  {
   "cell_type": "code",
   "execution_count": null,
   "id": "05a48c4c",
   "metadata": {
    "execution": {
     "iopub.execute_input": "2023-07-20T19:56:05.580848Z",
     "iopub.status.busy": "2023-07-20T19:56:05.580355Z",
     "iopub.status.idle": "2023-07-20T19:56:05.590624Z",
     "shell.execute_reply": "2023-07-20T19:56:05.588982Z"
    },
    "papermill": {
     "duration": 0.042743,
     "end_time": "2023-07-20T19:56:05.593769",
     "exception": false,
     "start_time": "2023-07-20T19:56:05.551026",
     "status": "completed"
    },
    "tags": []
   },
   "outputs": [],
   "source": [
    "#Label prediction - just to check if the prediction is working well\n",
    "@torch.inference_mode() #декократор для отключения подсчета градиентов\n",
    "def predict(model: nn.Module, loader: DataLoader, device: torch.device):\n",
    "    model.eval()\n",
    "    \n",
    "    preds_hist = []\n",
    "    \n",
    "\n",
    "    for x, y in tqdm(loader):\n",
    "        x, y = x.to(device), y.to(device)\n",
    "        \n",
    "        preds = model(x)\n",
    "\n",
    "        rounded_preds = torch.sigmoid(preds) #torch.round()\n",
    "    \n",
    "        preds_class = torch.argmax(rounded_preds, 1) \n",
    "        \n",
    "        preds_hist.append(preds_class)\n",
    "\n",
    "    preds_hist = torch.cat(preds_hist)\n",
    "    \n",
    "    return preds_hist"
   ]
  },
  {
   "cell_type": "code",
   "execution_count": null,
   "id": "e1977b4d",
   "metadata": {
    "execution": {
     "iopub.execute_input": "2023-07-20T19:56:05.650362Z",
     "iopub.status.busy": "2023-07-20T19:56:05.649005Z",
     "iopub.status.idle": "2023-07-20T19:56:05.674118Z",
     "shell.execute_reply": "2023-07-20T19:56:05.672380Z"
    },
    "papermill": {
     "duration": 0.056258,
     "end_time": "2023-07-20T19:56:05.677085",
     "exception": false,
     "start_time": "2023-07-20T19:56:05.620827",
     "status": "completed"
    },
    "tags": []
   },
   "outputs": [],
   "source": [
    "#check if the prediction is working well\n",
    "predict(little_model, valid_loader, device)"
   ]
  },
  {
   "cell_type": "code",
   "execution_count": null,
   "id": "5d00d67e",
   "metadata": {
    "execution": {
     "iopub.execute_input": "2023-07-20T19:56:05.736626Z",
     "iopub.status.busy": "2023-07-20T19:56:05.736041Z",
     "iopub.status.idle": "2023-07-20T19:56:05.746239Z",
     "shell.execute_reply": "2023-07-20T19:56:05.744803Z"
    },
    "papermill": {
     "duration": 0.041409,
     "end_time": "2023-07-20T19:56:05.748735",
     "exception": false,
     "start_time": "2023-07-20T19:56:05.707326",
     "status": "completed"
    },
    "tags": []
   },
   "outputs": [],
   "source": [
    "#One-sample prediction\n",
    "@torch.inference_mode() #декократор для отключения подсчета градиентов\n",
    "def predict_sample(model: nn.Module, loader, device: torch.device):\n",
    "\n",
    "    model.eval()\n",
    "    \n",
    "    preds_hist = []\n",
    "    \n",
    "    for x in loader:\n",
    "        x  = x.to(device).unsqueeze(1)\n",
    "        x = torch.transpose(x, 0, 1)\n",
    "    \n",
    "        #print(x.shape)\n",
    "        #print(x)\n",
    "        \n",
    "        preds = model(x)\n",
    "        print(preds)\n",
    "\n",
    "        rounded_preds = torch.sigmoid(preds) #torch.round()\n",
    "        print(rounded_preds)\n",
    "    \n",
    "        preds_class = torch.argmax(rounded_preds, 1) \n",
    "        print(preds_class)\n",
    "    \n",
    "        preds_hist.append(preds_class)\n",
    "    \n",
    "    preds_hist = torch.cat(preds_hist)\n",
    "        \n",
    "    return preds_hist"
   ]
  },
  {
   "cell_type": "code",
   "execution_count": null,
   "id": "dfd04f5b",
   "metadata": {
    "execution": {
     "iopub.execute_input": "2023-07-20T19:56:05.805956Z",
     "iopub.status.busy": "2023-07-20T19:56:05.805428Z",
     "iopub.status.idle": "2023-07-20T19:56:05.814541Z",
     "shell.execute_reply": "2023-07-20T19:56:05.813225Z"
    },
    "papermill": {
     "duration": 0.041344,
     "end_time": "2023-07-20T19:56:05.817044",
     "exception": false,
     "start_time": "2023-07-20T19:56:05.775700",
     "status": "completed"
    },
    "tags": []
   },
   "outputs": [],
   "source": [
    "@torch.inference_mode()\n",
    "def take_sample(test_comment):\n",
    "    \n",
    "    model.eval()\n",
    "    \n",
    "    total_embeddings = []\n",
    "    \n",
    "    sample_encoding = tokenizer.batch_encode_plus([test_comment], \n",
    "                                       add_special_tokens=True, \n",
    "                                       return_token_type_ids=False, \n",
    "                                       truncation=True)\n",
    "    \n",
    "    sample_encoding['input_ids'] = torch.tensor(sample_encoding['input_ids'])\n",
    "    sample_encoding['attention_mask'] = torch.tensor(sample_encoding['attention_mask'])\n",
    "    embeddings = model(**sample_encoding)['last_hidden_state'][:, 0, :]\n",
    "    total_embeddings.append(embeddings.cpu())\n",
    "    res = torch.cat(total_embeddings, dim=0)\n",
    "    \n",
    "    return res\n",
    "#УСПЕХ!"
   ]
  },
  {
   "cell_type": "code",
   "execution_count": null,
   "id": "3c1a8257",
   "metadata": {
    "execution": {
     "iopub.execute_input": "2023-07-20T19:56:05.872858Z",
     "iopub.status.busy": "2023-07-20T19:56:05.872349Z",
     "iopub.status.idle": "2023-07-20T19:56:05.879669Z",
     "shell.execute_reply": "2023-07-20T19:56:05.877945Z"
    },
    "papermill": {
     "duration": 0.038961,
     "end_time": "2023-07-20T19:56:05.882678",
     "exception": false,
     "start_time": "2023-07-20T19:56:05.843717",
     "status": "completed"
    },
    "tags": []
   },
   "outputs": [],
   "source": [
    "#Def to check for new entries\n",
    "def consequences_input(cons: str):\n",
    "    test = take_sample(cons)\n",
    "    predict_sample(little_model, test, device)\n",
    "    \n",
    "#Results format:\n",
    "#Class preds\n",
    "#Corrected class preds (sigmoid)\n",
    "#Class tensor"
   ]
  },
  {
   "cell_type": "code",
   "execution_count": null,
   "id": "6f7c3a97",
   "metadata": {
    "execution": {
     "iopub.execute_input": "2023-07-20T19:56:05.939008Z",
     "iopub.status.busy": "2023-07-20T19:56:05.938479Z",
     "iopub.status.idle": "2023-07-20T19:56:06.015454Z",
     "shell.execute_reply": "2023-07-20T19:56:06.013774Z"
    },
    "papermill": {
     "duration": 0.109764,
     "end_time": "2023-07-20T19:56:06.019624",
     "exception": false,
     "start_time": "2023-07-20T19:56:05.909860",
     "status": "completed"
    },
    "tags": []
   },
   "outputs": [],
   "source": [
    "#Test 1\n",
    "consequences_input('Separator breakdown, damage to the nearby equipment')"
   ]
  },
  {
   "cell_type": "code",
   "execution_count": null,
   "id": "5440cb1b",
   "metadata": {
    "execution": {
     "iopub.execute_input": "2023-07-20T19:56:06.078114Z",
     "iopub.status.busy": "2023-07-20T19:56:06.077626Z",
     "iopub.status.idle": "2023-07-20T19:56:06.145488Z",
     "shell.execute_reply": "2023-07-20T19:56:06.144511Z"
    },
    "papermill": {
     "duration": 0.100257,
     "end_time": "2023-07-20T19:56:06.148096",
     "exception": false,
     "start_time": "2023-07-20T19:56:06.047839",
     "status": "completed"
    },
    "tags": []
   },
   "outputs": [],
   "source": [
    "#Test 2\n",
    "consequences_input('Decrease temperature in cooler E-103')"
   ]
  },
  {
   "cell_type": "code",
   "execution_count": null,
   "id": "a575dd4b",
   "metadata": {
    "execution": {
     "iopub.execute_input": "2023-07-20T19:56:06.208778Z",
     "iopub.status.busy": "2023-07-20T19:56:06.208273Z",
     "iopub.status.idle": "2023-07-20T19:56:06.268233Z",
     "shell.execute_reply": "2023-07-20T19:56:06.266695Z"
    },
    "papermill": {
     "duration": 0.09492,
     "end_time": "2023-07-20T19:56:06.271287",
     "exception": false,
     "start_time": "2023-07-20T19:56:06.176367",
     "status": "completed"
    },
    "tags": []
   },
   "outputs": [],
   "source": [
    "#Test 3\n",
    "consequences_input('None')"
   ]
  },
  {
   "cell_type": "code",
   "execution_count": null,
   "id": "d817730a",
   "metadata": {
    "execution": {
     "iopub.execute_input": "2023-07-20T19:56:06.330378Z",
     "iopub.status.busy": "2023-07-20T19:56:06.329861Z",
     "iopub.status.idle": "2023-07-20T19:56:06.416716Z",
     "shell.execute_reply": "2023-07-20T19:56:06.415385Z"
    },
    "papermill": {
     "duration": 0.121021,
     "end_time": "2023-07-20T19:56:06.420581",
     "exception": false,
     "start_time": "2023-07-20T19:56:06.299560",
     "status": "completed"
    },
    "tags": []
   },
   "outputs": [],
   "source": [
    "#Test 4\n",
    "consequences_input('Heater H-101 coils burnout; fire in heater H-101.')"
   ]
  },
  {
   "cell_type": "code",
   "execution_count": null,
   "id": "4588997d",
   "metadata": {
    "execution": {
     "iopub.execute_input": "2023-07-20T19:56:06.479458Z",
     "iopub.status.busy": "2023-07-20T19:56:06.478653Z",
     "iopub.status.idle": "2023-07-20T19:56:06.568386Z",
     "shell.execute_reply": "2023-07-20T19:56:06.566862Z"
    },
    "papermill": {
     "duration": 0.122005,
     "end_time": "2023-07-20T19:56:06.571321",
     "exception": false,
     "start_time": "2023-07-20T19:56:06.449316",
     "status": "completed"
    },
    "tags": []
   },
   "outputs": [],
   "source": [
    "#Test 5\n",
    "consequences_input('Compressor C-101B breakdown; release of hazardous materials, explosion, fire, personnel injuries, damage to nearby equipment')"
   ]
  },
  {
   "cell_type": "code",
   "execution_count": null,
   "id": "3d58dfd6",
   "metadata": {
    "execution": {
     "iopub.execute_input": "2023-07-20T19:56:06.630187Z",
     "iopub.status.busy": "2023-07-20T19:56:06.629300Z",
     "iopub.status.idle": "2023-07-20T19:56:06.701904Z",
     "shell.execute_reply": "2023-07-20T19:56:06.700453Z"
    },
    "papermill": {
     "duration": 0.105636,
     "end_time": "2023-07-20T19:56:06.705087",
     "exception": false,
     "start_time": "2023-07-20T19:56:06.599451",
     "status": "completed"
    },
    "tags": []
   },
   "outputs": [],
   "source": [
    "#Test 6\n",
    "consequences_input('pump P-104 breakdown, release of hazarious materials')"
   ]
  }
 ],
 "metadata": {
  "kernelspec": {
   "display_name": "Python 3 (ipykernel)",
   "language": "python",
   "name": "python3"
  },
  "language_info": {
   "codemirror_mode": {
    "name": "ipython",
    "version": 3
   },
   "file_extension": ".py",
   "mimetype": "text/x-python",
   "name": "python",
   "nbconvert_exporter": "python",
   "pygments_lexer": "ipython3",
   "version": "3.9.12"
  },
  "papermill": {
   "default_parameters": {},
   "duration": 116.044273,
   "end_time": "2023-07-20T19:56:10.104510",
   "environment_variables": {},
   "exception": null,
   "input_path": "__notebook__.ipynb",
   "output_path": "__notebook__.ipynb",
   "parameters": {},
   "start_time": "2023-07-20T19:54:14.060237",
   "version": "2.4.0"
  },
  "widgets": {
   "application/vnd.jupyter.widget-state+json": {
    "state": {
     "0106649b3d794aa085e31cda131cacc0": {
      "model_module": "@jupyter-widgets/base",
      "model_module_version": "1.2.0",
      "model_name": "LayoutModel",
      "state": {
       "_model_module": "@jupyter-widgets/base",
       "_model_module_version": "1.2.0",
       "_model_name": "LayoutModel",
       "_view_count": null,
       "_view_module": "@jupyter-widgets/base",
       "_view_module_version": "1.2.0",
       "_view_name": "LayoutView",
       "align_content": null,
       "align_items": null,
       "align_self": null,
       "border": null,
       "bottom": null,
       "display": null,
       "flex": null,
       "flex_flow": null,
       "grid_area": null,
       "grid_auto_columns": null,
       "grid_auto_flow": null,
       "grid_auto_rows": null,
       "grid_column": null,
       "grid_gap": null,
       "grid_row": null,
       "grid_template_areas": null,
       "grid_template_columns": null,
       "grid_template_rows": null,
       "height": null,
       "justify_content": null,
       "justify_items": null,
       "left": null,
       "margin": null,
       "max_height": null,
       "max_width": null,
       "min_height": null,
       "min_width": null,
       "object_fit": null,
       "object_position": null,
       "order": null,
       "overflow": null,
       "overflow_x": null,
       "overflow_y": null,
       "padding": null,
       "right": null,
       "top": null,
       "visibility": null,
       "width": null
      }
     },
     "01504713816c4a64b6afe4282ce48029": {
      "model_module": "@jupyter-widgets/controls",
      "model_module_version": "1.5.0",
      "model_name": "HTMLModel",
      "state": {
       "_dom_classes": [],
       "_model_module": "@jupyter-widgets/controls",
       "_model_module_version": "1.5.0",
       "_model_name": "HTMLModel",
       "_view_count": null,
       "_view_module": "@jupyter-widgets/controls",
       "_view_module_version": "1.5.0",
       "_view_name": "HTMLView",
       "description": "",
       "description_tooltip": null,
       "layout": "IPY_MODEL_68b8d6c49515415bbec4ca4e34959e91",
       "placeholder": "​",
       "style": "IPY_MODEL_bfa1c1665c534d03a750221b28fafc8e",
       "value": " 1/1 [00:00&lt;00:00,  7.33ba/s]"
      }
     },
     "03823093867c438b99328a7b3bca7559": {
      "model_module": "@jupyter-widgets/controls",
      "model_module_version": "1.5.0",
      "model_name": "HBoxModel",
      "state": {
       "_dom_classes": [],
       "_model_module": "@jupyter-widgets/controls",
       "_model_module_version": "1.5.0",
       "_model_name": "HBoxModel",
       "_view_count": null,
       "_view_module": "@jupyter-widgets/controls",
       "_view_module_version": "1.5.0",
       "_view_name": "HBoxView",
       "box_style": "",
       "children": [
        "IPY_MODEL_1e4f9e2479bf438e9e6a54506bd80bff",
        "IPY_MODEL_cceb3e955c0e4713a1da6d15d9540540",
        "IPY_MODEL_01504713816c4a64b6afe4282ce48029"
       ],
       "layout": "IPY_MODEL_4e5d0bf9b49e41b28d2d739856bc6ff9"
      }
     },
     "067dc8eaec2a40c1b0c21658ff7f50b2": {
      "model_module": "@jupyter-widgets/controls",
      "model_module_version": "1.5.0",
      "model_name": "HTMLModel",
      "state": {
       "_dom_classes": [],
       "_model_module": "@jupyter-widgets/controls",
       "_model_module_version": "1.5.0",
       "_model_name": "HTMLModel",
       "_view_count": null,
       "_view_module": "@jupyter-widgets/controls",
       "_view_module_version": "1.5.0",
       "_view_name": "HTMLView",
       "description": "",
       "description_tooltip": null,
       "layout": "IPY_MODEL_ddd4e672643641c68fe637099266be90",
       "placeholder": "​",
       "style": "IPY_MODEL_f5c26d718be241d78de9f689b321c625",
       "value": "Downloading model.safetensors: 100%"
      }
     },
     "07a4908e05a64df19785701638384adf": {
      "model_module": "@jupyter-widgets/base",
      "model_module_version": "1.2.0",
      "model_name": "LayoutModel",
      "state": {
       "_model_module": "@jupyter-widgets/base",
       "_model_module_version": "1.2.0",
       "_model_name": "LayoutModel",
       "_view_count": null,
       "_view_module": "@jupyter-widgets/base",
       "_view_module_version": "1.2.0",
       "_view_name": "LayoutView",
       "align_content": null,
       "align_items": null,
       "align_self": null,
       "border": null,
       "bottom": null,
       "display": null,
       "flex": null,
       "flex_flow": null,
       "grid_area": null,
       "grid_auto_columns": null,
       "grid_auto_flow": null,
       "grid_auto_rows": null,
       "grid_column": null,
       "grid_gap": null,
       "grid_row": null,
       "grid_template_areas": null,
       "grid_template_columns": null,
       "grid_template_rows": null,
       "height": null,
       "justify_content": null,
       "justify_items": null,
       "left": null,
       "margin": null,
       "max_height": null,
       "max_width": null,
       "min_height": null,
       "min_width": null,
       "object_fit": null,
       "object_position": null,
       "order": null,
       "overflow": null,
       "overflow_x": null,
       "overflow_y": null,
       "padding": null,
       "right": null,
       "top": null,
       "visibility": null,
       "width": null
      }
     },
     "0c39c1228586410da408a8df78c2fa95": {
      "model_module": "@jupyter-widgets/controls",
      "model_module_version": "1.5.0",
      "model_name": "DescriptionStyleModel",
      "state": {
       "_model_module": "@jupyter-widgets/controls",
       "_model_module_version": "1.5.0",
       "_model_name": "DescriptionStyleModel",
       "_view_count": null,
       "_view_module": "@jupyter-widgets/base",
       "_view_module_version": "1.2.0",
       "_view_name": "StyleView",
       "description_width": ""
      }
     },
     "0e69fd71c3dd46ea8b59be4a6238da09": {
      "model_module": "@jupyter-widgets/controls",
      "model_module_version": "1.5.0",
      "model_name": "DescriptionStyleModel",
      "state": {
       "_model_module": "@jupyter-widgets/controls",
       "_model_module_version": "1.5.0",
       "_model_name": "DescriptionStyleModel",
       "_view_count": null,
       "_view_module": "@jupyter-widgets/base",
       "_view_module_version": "1.2.0",
       "_view_name": "StyleView",
       "description_width": ""
      }
     },
     "0fdaa1c754b649c4b194b3942cc68328": {
      "model_module": "@jupyter-widgets/controls",
      "model_module_version": "1.5.0",
      "model_name": "HTMLModel",
      "state": {
       "_dom_classes": [],
       "_model_module": "@jupyter-widgets/controls",
       "_model_module_version": "1.5.0",
       "_model_name": "HTMLModel",
       "_view_count": null,
       "_view_module": "@jupyter-widgets/controls",
       "_view_module_version": "1.5.0",
       "_view_name": "HTMLView",
       "description": "",
       "description_tooltip": null,
       "layout": "IPY_MODEL_d0fae94704974c058bdee2e5d83e72c0",
       "placeholder": "​",
       "style": "IPY_MODEL_245ddbd7595f4ce7bc4dd0d9040d7f20",
       "value": " 570/570 [00:00&lt;00:00, 31.8kB/s]"
      }
     },
     "10fec55efcae460eaef14379e6e4ff56": {
      "model_module": "@jupyter-widgets/controls",
      "model_module_version": "1.5.0",
      "model_name": "FloatProgressModel",
      "state": {
       "_dom_classes": [],
       "_model_module": "@jupyter-widgets/controls",
       "_model_module_version": "1.5.0",
       "_model_name": "FloatProgressModel",
       "_view_count": null,
       "_view_module": "@jupyter-widgets/controls",
       "_view_module_version": "1.5.0",
       "_view_name": "ProgressView",
       "bar_style": "success",
       "description": "",
       "description_tooltip": null,
       "layout": "IPY_MODEL_3f29ec95a9df4120b4eba7c8ebcf4dc9",
       "max": 435755784,
       "min": 0,
       "orientation": "horizontal",
       "style": "IPY_MODEL_249ee8e390b34286a4e6de13565b1687",
       "value": 435755784
      }
     },
     "1364369ae1d04103a985b30b53fe02e5": {
      "model_module": "@jupyter-widgets/controls",
      "model_module_version": "1.5.0",
      "model_name": "FloatProgressModel",
      "state": {
       "_dom_classes": [],
       "_model_module": "@jupyter-widgets/controls",
       "_model_module_version": "1.5.0",
       "_model_name": "FloatProgressModel",
       "_view_count": null,
       "_view_module": "@jupyter-widgets/controls",
       "_view_module_version": "1.5.0",
       "_view_name": "ProgressView",
       "bar_style": "success",
       "description": "",
       "description_tooltip": null,
       "layout": "IPY_MODEL_c4a8ec4f795b4784a1336c28187bcaea",
       "max": 29,
       "min": 0,
       "orientation": "horizontal",
       "style": "IPY_MODEL_40627819a1484e7ca11deee88e5821ba",
       "value": 29
      }
     },
     "15084f8b815d4210bfa7a076d7ba1bdf": {
      "model_module": "@jupyter-widgets/controls",
      "model_module_version": "1.5.0",
      "model_name": "HTMLModel",
      "state": {
       "_dom_classes": [],
       "_model_module": "@jupyter-widgets/controls",
       "_model_module_version": "1.5.0",
       "_model_name": "HTMLModel",
       "_view_count": null,
       "_view_module": "@jupyter-widgets/controls",
       "_view_module_version": "1.5.0",
       "_view_name": "HTMLView",
       "description": "",
       "description_tooltip": null,
       "layout": "IPY_MODEL_96a5849ffae54dee9d37009fd2bfa7ec",
       "placeholder": "​",
       "style": "IPY_MODEL_18c375a50eb443d0aa3f47bd1987d707",
       "value": "Downloading (…)solve/main/vocab.txt: 100%"
      }
     },
     "164089282b49434c807d913e826ad199": {
      "model_module": "@jupyter-widgets/controls",
      "model_module_version": "1.5.0",
      "model_name": "HBoxModel",
      "state": {
       "_dom_classes": [],
       "_model_module": "@jupyter-widgets/controls",
       "_model_module_version": "1.5.0",
       "_model_name": "HBoxModel",
       "_view_count": null,
       "_view_module": "@jupyter-widgets/controls",
       "_view_module_version": "1.5.0",
       "_view_name": "HBoxView",
       "box_style": "",
       "children": [
        "IPY_MODEL_067dc8eaec2a40c1b0c21658ff7f50b2",
        "IPY_MODEL_10fec55efcae460eaef14379e6e4ff56",
        "IPY_MODEL_a9590f9ffa9d4b2c96c4f66891699277"
       ],
       "layout": "IPY_MODEL_978b8d058a7f46d69398fb16766f10cb"
      }
     },
     "18c375a50eb443d0aa3f47bd1987d707": {
      "model_module": "@jupyter-widgets/controls",
      "model_module_version": "1.5.0",
      "model_name": "DescriptionStyleModel",
      "state": {
       "_model_module": "@jupyter-widgets/controls",
       "_model_module_version": "1.5.0",
       "_model_name": "DescriptionStyleModel",
       "_view_count": null,
       "_view_module": "@jupyter-widgets/base",
       "_view_module_version": "1.2.0",
       "_view_name": "StyleView",
       "description_width": ""
      }
     },
     "1d2cf97cee5a415e8617c36d715924d3": {
      "model_module": "@jupyter-widgets/controls",
      "model_module_version": "1.5.0",
      "model_name": "ProgressStyleModel",
      "state": {
       "_model_module": "@jupyter-widgets/controls",
       "_model_module_version": "1.5.0",
       "_model_name": "ProgressStyleModel",
       "_view_count": null,
       "_view_module": "@jupyter-widgets/base",
       "_view_module_version": "1.2.0",
       "_view_name": "StyleView",
       "bar_color": null,
       "description_width": ""
      }
     },
     "1e4f9e2479bf438e9e6a54506bd80bff": {
      "model_module": "@jupyter-widgets/controls",
      "model_module_version": "1.5.0",
      "model_name": "HTMLModel",
      "state": {
       "_dom_classes": [],
       "_model_module": "@jupyter-widgets/controls",
       "_model_module_version": "1.5.0",
       "_model_name": "HTMLModel",
       "_view_count": null,
       "_view_module": "@jupyter-widgets/controls",
       "_view_module_version": "1.5.0",
       "_view_name": "HTMLView",
       "description": "",
       "description_tooltip": null,
       "layout": "IPY_MODEL_07a4908e05a64df19785701638384adf",
       "placeholder": "​",
       "style": "IPY_MODEL_0e69fd71c3dd46ea8b59be4a6238da09",
       "value": "100%"
      }
     },
     "1ea3704d5158478d80e0795ec1522d30": {
      "model_module": "@jupyter-widgets/controls",
      "model_module_version": "1.5.0",
      "model_name": "HTMLModel",
      "state": {
       "_dom_classes": [],
       "_model_module": "@jupyter-widgets/controls",
       "_model_module_version": "1.5.0",
       "_model_name": "HTMLModel",
       "_view_count": null,
       "_view_module": "@jupyter-widgets/controls",
       "_view_module_version": "1.5.0",
       "_view_name": "HTMLView",
       "description": "",
       "description_tooltip": null,
       "layout": "IPY_MODEL_20e6a25e17ab4e58bb0c46ff15192df6",
       "placeholder": "​",
       "style": "IPY_MODEL_b0cc3f4dfce147a5a3a8149e84f7a54f",
       "value": "100%"
      }
     },
     "20e6a25e17ab4e58bb0c46ff15192df6": {
      "model_module": "@jupyter-widgets/base",
      "model_module_version": "1.2.0",
      "model_name": "LayoutModel",
      "state": {
       "_model_module": "@jupyter-widgets/base",
       "_model_module_version": "1.2.0",
       "_model_name": "LayoutModel",
       "_view_count": null,
       "_view_module": "@jupyter-widgets/base",
       "_view_module_version": "1.2.0",
       "_view_name": "LayoutView",
       "align_content": null,
       "align_items": null,
       "align_self": null,
       "border": null,
       "bottom": null,
       "display": null,
       "flex": null,
       "flex_flow": null,
       "grid_area": null,
       "grid_auto_columns": null,
       "grid_auto_flow": null,
       "grid_auto_rows": null,
       "grid_column": null,
       "grid_gap": null,
       "grid_row": null,
       "grid_template_areas": null,
       "grid_template_columns": null,
       "grid_template_rows": null,
       "height": null,
       "justify_content": null,
       "justify_items": null,
       "left": null,
       "margin": null,
       "max_height": null,
       "max_width": null,
       "min_height": null,
       "min_width": null,
       "object_fit": null,
       "object_position": null,
       "order": null,
       "overflow": null,
       "overflow_x": null,
       "overflow_y": null,
       "padding": null,
       "right": null,
       "top": null,
       "visibility": null,
       "width": null
      }
     },
     "245ddbd7595f4ce7bc4dd0d9040d7f20": {
      "model_module": "@jupyter-widgets/controls",
      "model_module_version": "1.5.0",
      "model_name": "DescriptionStyleModel",
      "state": {
       "_model_module": "@jupyter-widgets/controls",
       "_model_module_version": "1.5.0",
       "_model_name": "DescriptionStyleModel",
       "_view_count": null,
       "_view_module": "@jupyter-widgets/base",
       "_view_module_version": "1.2.0",
       "_view_name": "StyleView",
       "description_width": ""
      }
     },
     "249ee8e390b34286a4e6de13565b1687": {
      "model_module": "@jupyter-widgets/controls",
      "model_module_version": "1.5.0",
      "model_name": "ProgressStyleModel",
      "state": {
       "_model_module": "@jupyter-widgets/controls",
       "_model_module_version": "1.5.0",
       "_model_name": "ProgressStyleModel",
       "_view_count": null,
       "_view_module": "@jupyter-widgets/base",
       "_view_module_version": "1.2.0",
       "_view_name": "StyleView",
       "bar_color": null,
       "description_width": ""
      }
     },
     "2934d9b1edf84f669dd03b4051550a1a": {
      "model_module": "@jupyter-widgets/controls",
      "model_module_version": "1.5.0",
      "model_name": "ProgressStyleModel",
      "state": {
       "_model_module": "@jupyter-widgets/controls",
       "_model_module_version": "1.5.0",
       "_model_name": "ProgressStyleModel",
       "_view_count": null,
       "_view_module": "@jupyter-widgets/base",
       "_view_module_version": "1.2.0",
       "_view_name": "StyleView",
       "bar_color": null,
       "description_width": ""
      }
     },
     "3df9c11159a74576b3eab2557655130d": {
      "model_module": "@jupyter-widgets/controls",
      "model_module_version": "1.5.0",
      "model_name": "DescriptionStyleModel",
      "state": {
       "_model_module": "@jupyter-widgets/controls",
       "_model_module_version": "1.5.0",
       "_model_name": "DescriptionStyleModel",
       "_view_count": null,
       "_view_module": "@jupyter-widgets/base",
       "_view_module_version": "1.2.0",
       "_view_name": "StyleView",
       "description_width": ""
      }
     },
     "3f29ec95a9df4120b4eba7c8ebcf4dc9": {
      "model_module": "@jupyter-widgets/base",
      "model_module_version": "1.2.0",
      "model_name": "LayoutModel",
      "state": {
       "_model_module": "@jupyter-widgets/base",
       "_model_module_version": "1.2.0",
       "_model_name": "LayoutModel",
       "_view_count": null,
       "_view_module": "@jupyter-widgets/base",
       "_view_module_version": "1.2.0",
       "_view_name": "LayoutView",
       "align_content": null,
       "align_items": null,
       "align_self": null,
       "border": null,
       "bottom": null,
       "display": null,
       "flex": null,
       "flex_flow": null,
       "grid_area": null,
       "grid_auto_columns": null,
       "grid_auto_flow": null,
       "grid_auto_rows": null,
       "grid_column": null,
       "grid_gap": null,
       "grid_row": null,
       "grid_template_areas": null,
       "grid_template_columns": null,
       "grid_template_rows": null,
       "height": null,
       "justify_content": null,
       "justify_items": null,
       "left": null,
       "margin": null,
       "max_height": null,
       "max_width": null,
       "min_height": null,
       "min_width": null,
       "object_fit": null,
       "object_position": null,
       "order": null,
       "overflow": null,
       "overflow_x": null,
       "overflow_y": null,
       "padding": null,
       "right": null,
       "top": null,
       "visibility": null,
       "width": null
      }
     },
     "40627819a1484e7ca11deee88e5821ba": {
      "model_module": "@jupyter-widgets/controls",
      "model_module_version": "1.5.0",
      "model_name": "ProgressStyleModel",
      "state": {
       "_model_module": "@jupyter-widgets/controls",
       "_model_module_version": "1.5.0",
       "_model_name": "ProgressStyleModel",
       "_view_count": null,
       "_view_module": "@jupyter-widgets/base",
       "_view_module_version": "1.2.0",
       "_view_name": "StyleView",
       "bar_color": null,
       "description_width": ""
      }
     },
     "40a02f4feddf418295cc89d7929fdbe6": {
      "model_module": "@jupyter-widgets/controls",
      "model_module_version": "1.5.0",
      "model_name": "HTMLModel",
      "state": {
       "_dom_classes": [],
       "_model_module": "@jupyter-widgets/controls",
       "_model_module_version": "1.5.0",
       "_model_name": "HTMLModel",
       "_view_count": null,
       "_view_module": "@jupyter-widgets/controls",
       "_view_module_version": "1.5.0",
       "_view_name": "HTMLView",
       "description": "",
       "description_tooltip": null,
       "layout": "IPY_MODEL_a5963074ab2840c2938b4cb091c8ab66",
       "placeholder": "​",
       "style": "IPY_MODEL_d5e09f0a6e434d3b8a93a3c22b50cd4a",
       "value": " 213k/213k [00:00&lt;00:00, 1.72MB/s]"
      }
     },
     "444744527c3c424db6a611870e83a99e": {
      "model_module": "@jupyter-widgets/controls",
      "model_module_version": "1.5.0",
      "model_name": "HTMLModel",
      "state": {
       "_dom_classes": [],
       "_model_module": "@jupyter-widgets/controls",
       "_model_module_version": "1.5.0",
       "_model_name": "HTMLModel",
       "_view_count": null,
       "_view_module": "@jupyter-widgets/controls",
       "_view_module_version": "1.5.0",
       "_view_name": "HTMLView",
       "description": "",
       "description_tooltip": null,
       "layout": "IPY_MODEL_d813fe39b15f46c4a3490b9bc8b27a8b",
       "placeholder": "​",
       "style": "IPY_MODEL_dbf75071c1ba4e49b9fb7cec26372a1a",
       "value": "Downloading (…)okenizer_config.json: 100%"
      }
     },
     "49d81f13edd74372b137ab7f008cf79b": {
      "model_module": "@jupyter-widgets/controls",
      "model_module_version": "1.5.0",
      "model_name": "HTMLModel",
      "state": {
       "_dom_classes": [],
       "_model_module": "@jupyter-widgets/controls",
       "_model_module_version": "1.5.0",
       "_model_name": "HTMLModel",
       "_view_count": null,
       "_view_module": "@jupyter-widgets/controls",
       "_view_module_version": "1.5.0",
       "_view_name": "HTMLView",
       "description": "",
       "description_tooltip": null,
       "layout": "IPY_MODEL_0106649b3d794aa085e31cda131cacc0",
       "placeholder": "​",
       "style": "IPY_MODEL_ee50db1a294140e0bb52d127f7d50173",
       "value": "Downloading (…)/main/tokenizer.json: 100%"
      }
     },
     "4cb23de338ee43d19e73a8e4662d4f8a": {
      "model_module": "@jupyter-widgets/base",
      "model_module_version": "1.2.0",
      "model_name": "LayoutModel",
      "state": {
       "_model_module": "@jupyter-widgets/base",
       "_model_module_version": "1.2.0",
       "_model_name": "LayoutModel",
       "_view_count": null,
       "_view_module": "@jupyter-widgets/base",
       "_view_module_version": "1.2.0",
       "_view_name": "LayoutView",
       "align_content": null,
       "align_items": null,
       "align_self": null,
       "border": null,
       "bottom": null,
       "display": null,
       "flex": null,
       "flex_flow": null,
       "grid_area": null,
       "grid_auto_columns": null,
       "grid_auto_flow": null,
       "grid_auto_rows": null,
       "grid_column": null,
       "grid_gap": null,
       "grid_row": null,
       "grid_template_areas": null,
       "grid_template_columns": null,
       "grid_template_rows": null,
       "height": null,
       "justify_content": null,
       "justify_items": null,
       "left": null,
       "margin": null,
       "max_height": null,
       "max_width": null,
       "min_height": null,
       "min_width": null,
       "object_fit": null,
       "object_position": null,
       "order": null,
       "overflow": null,
       "overflow_x": null,
       "overflow_y": null,
       "padding": null,
       "right": null,
       "top": null,
       "visibility": null,
       "width": null
      }
     },
     "4e5d0bf9b49e41b28d2d739856bc6ff9": {
      "model_module": "@jupyter-widgets/base",
      "model_module_version": "1.2.0",
      "model_name": "LayoutModel",
      "state": {
       "_model_module": "@jupyter-widgets/base",
       "_model_module_version": "1.2.0",
       "_model_name": "LayoutModel",
       "_view_count": null,
       "_view_module": "@jupyter-widgets/base",
       "_view_module_version": "1.2.0",
       "_view_name": "LayoutView",
       "align_content": null,
       "align_items": null,
       "align_self": null,
       "border": null,
       "bottom": null,
       "display": null,
       "flex": null,
       "flex_flow": null,
       "grid_area": null,
       "grid_auto_columns": null,
       "grid_auto_flow": null,
       "grid_auto_rows": null,
       "grid_column": null,
       "grid_gap": null,
       "grid_row": null,
       "grid_template_areas": null,
       "grid_template_columns": null,
       "grid_template_rows": null,
       "height": null,
       "justify_content": null,
       "justify_items": null,
       "left": null,
       "margin": null,
       "max_height": null,
       "max_width": null,
       "min_height": null,
       "min_width": null,
       "object_fit": null,
       "object_position": null,
       "order": null,
       "overflow": null,
       "overflow_x": null,
       "overflow_y": null,
       "padding": null,
       "right": null,
       "top": null,
       "visibility": null,
       "width": null
      }
     },
     "52bfa04b5c694cc2a1a3edf1e5059645": {
      "model_module": "@jupyter-widgets/controls",
      "model_module_version": "1.5.0",
      "model_name": "HBoxModel",
      "state": {
       "_dom_classes": [],
       "_model_module": "@jupyter-widgets/controls",
       "_model_module_version": "1.5.0",
       "_model_name": "HBoxModel",
       "_view_count": null,
       "_view_module": "@jupyter-widgets/controls",
       "_view_module_version": "1.5.0",
       "_view_name": "HBoxView",
       "box_style": "",
       "children": [
        "IPY_MODEL_444744527c3c424db6a611870e83a99e",
        "IPY_MODEL_1364369ae1d04103a985b30b53fe02e5",
        "IPY_MODEL_8442e3f9d03e420a99886a8ae7fb1924"
       ],
       "layout": "IPY_MODEL_ae86f91316f64600b855662365644168"
      }
     },
     "54067673e9e349b686fcba84e94eb6da": {
      "model_module": "@jupyter-widgets/controls",
      "model_module_version": "1.5.0",
      "model_name": "DescriptionStyleModel",
      "state": {
       "_model_module": "@jupyter-widgets/controls",
       "_model_module_version": "1.5.0",
       "_model_name": "DescriptionStyleModel",
       "_view_count": null,
       "_view_module": "@jupyter-widgets/base",
       "_view_module_version": "1.2.0",
       "_view_name": "StyleView",
       "description_width": ""
      }
     },
     "5923ab0d2f704bbb983bad6c698fc9b3": {
      "model_module": "@jupyter-widgets/controls",
      "model_module_version": "1.5.0",
      "model_name": "FloatProgressModel",
      "state": {
       "_dom_classes": [],
       "_model_module": "@jupyter-widgets/controls",
       "_model_module_version": "1.5.0",
       "_model_name": "FloatProgressModel",
       "_view_count": null,
       "_view_module": "@jupyter-widgets/controls",
       "_view_module_version": "1.5.0",
       "_view_name": "ProgressView",
       "bar_style": "success",
       "description": "",
       "description_tooltip": null,
       "layout": "IPY_MODEL_fea69419b9974ba6bc17501a159f1216",
       "max": 570,
       "min": 0,
       "orientation": "horizontal",
       "style": "IPY_MODEL_df09594f30b54476b2005229f472a9b1",
       "value": 570
      }
     },
     "5a4f1ffc7d564c1ba30b4cf0936b0d7c": {
      "model_module": "@jupyter-widgets/base",
      "model_module_version": "1.2.0",
      "model_name": "LayoutModel",
      "state": {
       "_model_module": "@jupyter-widgets/base",
       "_model_module_version": "1.2.0",
       "_model_name": "LayoutModel",
       "_view_count": null,
       "_view_module": "@jupyter-widgets/base",
       "_view_module_version": "1.2.0",
       "_view_name": "LayoutView",
       "align_content": null,
       "align_items": null,
       "align_self": null,
       "border": null,
       "bottom": null,
       "display": null,
       "flex": null,
       "flex_flow": null,
       "grid_area": null,
       "grid_auto_columns": null,
       "grid_auto_flow": null,
       "grid_auto_rows": null,
       "grid_column": null,
       "grid_gap": null,
       "grid_row": null,
       "grid_template_areas": null,
       "grid_template_columns": null,
       "grid_template_rows": null,
       "height": null,
       "justify_content": null,
       "justify_items": null,
       "left": null,
       "margin": null,
       "max_height": null,
       "max_width": null,
       "min_height": null,
       "min_width": null,
       "object_fit": null,
       "object_position": null,
       "order": null,
       "overflow": null,
       "overflow_x": null,
       "overflow_y": null,
       "padding": null,
       "right": null,
       "top": null,
       "visibility": null,
       "width": null
      }
     },
     "5a8c2b8ee0fb47288df21c35d2c3cf22": {
      "model_module": "@jupyter-widgets/controls",
      "model_module_version": "1.5.0",
      "model_name": "HTMLModel",
      "state": {
       "_dom_classes": [],
       "_model_module": "@jupyter-widgets/controls",
       "_model_module_version": "1.5.0",
       "_model_name": "HTMLModel",
       "_view_count": null,
       "_view_module": "@jupyter-widgets/controls",
       "_view_module_version": "1.5.0",
       "_view_name": "HTMLView",
       "description": "",
       "description_tooltip": null,
       "layout": "IPY_MODEL_d7ae64a4cd3544c9b23771144c70e343",
       "placeholder": "​",
       "style": "IPY_MODEL_54067673e9e349b686fcba84e94eb6da",
       "value": " 1/1 [00:00&lt;00:00, 28.09ba/s]"
      }
     },
     "5ee1993b32484cb3a7fc08109b6092e8": {
      "model_module": "@jupyter-widgets/controls",
      "model_module_version": "1.5.0",
      "model_name": "DescriptionStyleModel",
      "state": {
       "_model_module": "@jupyter-widgets/controls",
       "_model_module_version": "1.5.0",
       "_model_name": "DescriptionStyleModel",
       "_view_count": null,
       "_view_module": "@jupyter-widgets/base",
       "_view_module_version": "1.2.0",
       "_view_name": "StyleView",
       "description_width": ""
      }
     },
     "68b8d6c49515415bbec4ca4e34959e91": {
      "model_module": "@jupyter-widgets/base",
      "model_module_version": "1.2.0",
      "model_name": "LayoutModel",
      "state": {
       "_model_module": "@jupyter-widgets/base",
       "_model_module_version": "1.2.0",
       "_model_name": "LayoutModel",
       "_view_count": null,
       "_view_module": "@jupyter-widgets/base",
       "_view_module_version": "1.2.0",
       "_view_name": "LayoutView",
       "align_content": null,
       "align_items": null,
       "align_self": null,
       "border": null,
       "bottom": null,
       "display": null,
       "flex": null,
       "flex_flow": null,
       "grid_area": null,
       "grid_auto_columns": null,
       "grid_auto_flow": null,
       "grid_auto_rows": null,
       "grid_column": null,
       "grid_gap": null,
       "grid_row": null,
       "grid_template_areas": null,
       "grid_template_columns": null,
       "grid_template_rows": null,
       "height": null,
       "justify_content": null,
       "justify_items": null,
       "left": null,
       "margin": null,
       "max_height": null,
       "max_width": null,
       "min_height": null,
       "min_width": null,
       "object_fit": null,
       "object_position": null,
       "order": null,
       "overflow": null,
       "overflow_x": null,
       "overflow_y": null,
       "padding": null,
       "right": null,
       "top": null,
       "visibility": null,
       "width": null
      }
     },
     "8442e3f9d03e420a99886a8ae7fb1924": {
      "model_module": "@jupyter-widgets/controls",
      "model_module_version": "1.5.0",
      "model_name": "HTMLModel",
      "state": {
       "_dom_classes": [],
       "_model_module": "@jupyter-widgets/controls",
       "_model_module_version": "1.5.0",
       "_model_name": "HTMLModel",
       "_view_count": null,
       "_view_module": "@jupyter-widgets/controls",
       "_view_module_version": "1.5.0",
       "_view_name": "HTMLView",
       "description": "",
       "description_tooltip": null,
       "layout": "IPY_MODEL_e61c0f7862a24187acfe672fb2dcf6fe",
       "placeholder": "​",
       "style": "IPY_MODEL_0c39c1228586410da408a8df78c2fa95",
       "value": " 29.0/29.0 [00:00&lt;00:00, 1.84kB/s]"
      }
     },
     "8840de06c5e7416a9132ae6d07854a66": {
      "model_module": "@jupyter-widgets/controls",
      "model_module_version": "1.5.0",
      "model_name": "HBoxModel",
      "state": {
       "_dom_classes": [],
       "_model_module": "@jupyter-widgets/controls",
       "_model_module_version": "1.5.0",
       "_model_name": "HBoxModel",
       "_view_count": null,
       "_view_module": "@jupyter-widgets/controls",
       "_view_module_version": "1.5.0",
       "_view_name": "HBoxView",
       "box_style": "",
       "children": [
        "IPY_MODEL_15084f8b815d4210bfa7a076d7ba1bdf",
        "IPY_MODEL_d27908b22e7d4557bc74dadafff324ca",
        "IPY_MODEL_40a02f4feddf418295cc89d7929fdbe6"
       ],
       "layout": "IPY_MODEL_b5730acb920643c19367eb345fbc8b2e"
      }
     },
     "901c5437f49e440b8b467223c2afebf7": {
      "model_module": "@jupyter-widgets/base",
      "model_module_version": "1.2.0",
      "model_name": "LayoutModel",
      "state": {
       "_model_module": "@jupyter-widgets/base",
       "_model_module_version": "1.2.0",
       "_model_name": "LayoutModel",
       "_view_count": null,
       "_view_module": "@jupyter-widgets/base",
       "_view_module_version": "1.2.0",
       "_view_name": "LayoutView",
       "align_content": null,
       "align_items": null,
       "align_self": null,
       "border": null,
       "bottom": null,
       "display": null,
       "flex": null,
       "flex_flow": null,
       "grid_area": null,
       "grid_auto_columns": null,
       "grid_auto_flow": null,
       "grid_auto_rows": null,
       "grid_column": null,
       "grid_gap": null,
       "grid_row": null,
       "grid_template_areas": null,
       "grid_template_columns": null,
       "grid_template_rows": null,
       "height": null,
       "justify_content": null,
       "justify_items": null,
       "left": null,
       "margin": null,
       "max_height": null,
       "max_width": null,
       "min_height": null,
       "min_width": null,
       "object_fit": null,
       "object_position": null,
       "order": null,
       "overflow": null,
       "overflow_x": null,
       "overflow_y": null,
       "padding": null,
       "right": null,
       "top": null,
       "visibility": null,
       "width": null
      }
     },
     "91e6e7b6a015440597cd4f44a1b8ea7b": {
      "model_module": "@jupyter-widgets/base",
      "model_module_version": "1.2.0",
      "model_name": "LayoutModel",
      "state": {
       "_model_module": "@jupyter-widgets/base",
       "_model_module_version": "1.2.0",
       "_model_name": "LayoutModel",
       "_view_count": null,
       "_view_module": "@jupyter-widgets/base",
       "_view_module_version": "1.2.0",
       "_view_name": "LayoutView",
       "align_content": null,
       "align_items": null,
       "align_self": null,
       "border": null,
       "bottom": null,
       "display": null,
       "flex": null,
       "flex_flow": null,
       "grid_area": null,
       "grid_auto_columns": null,
       "grid_auto_flow": null,
       "grid_auto_rows": null,
       "grid_column": null,
       "grid_gap": null,
       "grid_row": null,
       "grid_template_areas": null,
       "grid_template_columns": null,
       "grid_template_rows": null,
       "height": null,
       "justify_content": null,
       "justify_items": null,
       "left": null,
       "margin": null,
       "max_height": null,
       "max_width": null,
       "min_height": null,
       "min_width": null,
       "object_fit": null,
       "object_position": null,
       "order": null,
       "overflow": null,
       "overflow_x": null,
       "overflow_y": null,
       "padding": null,
       "right": null,
       "top": null,
       "visibility": null,
       "width": null
      }
     },
     "9627c8cf781f42219822c1b3f46fe214": {
      "model_module": "@jupyter-widgets/base",
      "model_module_version": "1.2.0",
      "model_name": "LayoutModel",
      "state": {
       "_model_module": "@jupyter-widgets/base",
       "_model_module_version": "1.2.0",
       "_model_name": "LayoutModel",
       "_view_count": null,
       "_view_module": "@jupyter-widgets/base",
       "_view_module_version": "1.2.0",
       "_view_name": "LayoutView",
       "align_content": null,
       "align_items": null,
       "align_self": null,
       "border": null,
       "bottom": null,
       "display": null,
       "flex": null,
       "flex_flow": null,
       "grid_area": null,
       "grid_auto_columns": null,
       "grid_auto_flow": null,
       "grid_auto_rows": null,
       "grid_column": null,
       "grid_gap": null,
       "grid_row": null,
       "grid_template_areas": null,
       "grid_template_columns": null,
       "grid_template_rows": null,
       "height": null,
       "justify_content": null,
       "justify_items": null,
       "left": null,
       "margin": null,
       "max_height": null,
       "max_width": null,
       "min_height": null,
       "min_width": null,
       "object_fit": null,
       "object_position": null,
       "order": null,
       "overflow": null,
       "overflow_x": null,
       "overflow_y": null,
       "padding": null,
       "right": null,
       "top": null,
       "visibility": null,
       "width": null
      }
     },
     "96a5849ffae54dee9d37009fd2bfa7ec": {
      "model_module": "@jupyter-widgets/base",
      "model_module_version": "1.2.0",
      "model_name": "LayoutModel",
      "state": {
       "_model_module": "@jupyter-widgets/base",
       "_model_module_version": "1.2.0",
       "_model_name": "LayoutModel",
       "_view_count": null,
       "_view_module": "@jupyter-widgets/base",
       "_view_module_version": "1.2.0",
       "_view_name": "LayoutView",
       "align_content": null,
       "align_items": null,
       "align_self": null,
       "border": null,
       "bottom": null,
       "display": null,
       "flex": null,
       "flex_flow": null,
       "grid_area": null,
       "grid_auto_columns": null,
       "grid_auto_flow": null,
       "grid_auto_rows": null,
       "grid_column": null,
       "grid_gap": null,
       "grid_row": null,
       "grid_template_areas": null,
       "grid_template_columns": null,
       "grid_template_rows": null,
       "height": null,
       "justify_content": null,
       "justify_items": null,
       "left": null,
       "margin": null,
       "max_height": null,
       "max_width": null,
       "min_height": null,
       "min_width": null,
       "object_fit": null,
       "object_position": null,
       "order": null,
       "overflow": null,
       "overflow_x": null,
       "overflow_y": null,
       "padding": null,
       "right": null,
       "top": null,
       "visibility": null,
       "width": null
      }
     },
     "978b8d058a7f46d69398fb16766f10cb": {
      "model_module": "@jupyter-widgets/base",
      "model_module_version": "1.2.0",
      "model_name": "LayoutModel",
      "state": {
       "_model_module": "@jupyter-widgets/base",
       "_model_module_version": "1.2.0",
       "_model_name": "LayoutModel",
       "_view_count": null,
       "_view_module": "@jupyter-widgets/base",
       "_view_module_version": "1.2.0",
       "_view_name": "LayoutView",
       "align_content": null,
       "align_items": null,
       "align_self": null,
       "border": null,
       "bottom": null,
       "display": null,
       "flex": null,
       "flex_flow": null,
       "grid_area": null,
       "grid_auto_columns": null,
       "grid_auto_flow": null,
       "grid_auto_rows": null,
       "grid_column": null,
       "grid_gap": null,
       "grid_row": null,
       "grid_template_areas": null,
       "grid_template_columns": null,
       "grid_template_rows": null,
       "height": null,
       "justify_content": null,
       "justify_items": null,
       "left": null,
       "margin": null,
       "max_height": null,
       "max_width": null,
       "min_height": null,
       "min_width": null,
       "object_fit": null,
       "object_position": null,
       "order": null,
       "overflow": null,
       "overflow_x": null,
       "overflow_y": null,
       "padding": null,
       "right": null,
       "top": null,
       "visibility": null,
       "width": null
      }
     },
     "97ac1cc0838d43788e46d90f811fe55b": {
      "model_module": "@jupyter-widgets/base",
      "model_module_version": "1.2.0",
      "model_name": "LayoutModel",
      "state": {
       "_model_module": "@jupyter-widgets/base",
       "_model_module_version": "1.2.0",
       "_model_name": "LayoutModel",
       "_view_count": null,
       "_view_module": "@jupyter-widgets/base",
       "_view_module_version": "1.2.0",
       "_view_name": "LayoutView",
       "align_content": null,
       "align_items": null,
       "align_self": null,
       "border": null,
       "bottom": null,
       "display": null,
       "flex": null,
       "flex_flow": null,
       "grid_area": null,
       "grid_auto_columns": null,
       "grid_auto_flow": null,
       "grid_auto_rows": null,
       "grid_column": null,
       "grid_gap": null,
       "grid_row": null,
       "grid_template_areas": null,
       "grid_template_columns": null,
       "grid_template_rows": null,
       "height": null,
       "justify_content": null,
       "justify_items": null,
       "left": null,
       "margin": null,
       "max_height": null,
       "max_width": null,
       "min_height": null,
       "min_width": null,
       "object_fit": null,
       "object_position": null,
       "order": null,
       "overflow": null,
       "overflow_x": null,
       "overflow_y": null,
       "padding": null,
       "right": null,
       "top": null,
       "visibility": null,
       "width": null
      }
     },
     "98986e16d5ef44cb9889cf745466ac84": {
      "model_module": "@jupyter-widgets/controls",
      "model_module_version": "1.5.0",
      "model_name": "HBoxModel",
      "state": {
       "_dom_classes": [],
       "_model_module": "@jupyter-widgets/controls",
       "_model_module_version": "1.5.0",
       "_model_name": "HBoxModel",
       "_view_count": null,
       "_view_module": "@jupyter-widgets/controls",
       "_view_module_version": "1.5.0",
       "_view_name": "HBoxView",
       "box_style": "",
       "children": [
        "IPY_MODEL_fec0bd076b7341db9e2e569e46719e47",
        "IPY_MODEL_5923ab0d2f704bbb983bad6c698fc9b3",
        "IPY_MODEL_0fdaa1c754b649c4b194b3942cc68328"
       ],
       "layout": "IPY_MODEL_e1b1cec1327c43088bf12d901205535c"
      }
     },
     "99edfcfa747e422eb6fae62b1e36ba82": {
      "model_module": "@jupyter-widgets/base",
      "model_module_version": "1.2.0",
      "model_name": "LayoutModel",
      "state": {
       "_model_module": "@jupyter-widgets/base",
       "_model_module_version": "1.2.0",
       "_model_name": "LayoutModel",
       "_view_count": null,
       "_view_module": "@jupyter-widgets/base",
       "_view_module_version": "1.2.0",
       "_view_name": "LayoutView",
       "align_content": null,
       "align_items": null,
       "align_self": null,
       "border": null,
       "bottom": null,
       "display": null,
       "flex": null,
       "flex_flow": null,
       "grid_area": null,
       "grid_auto_columns": null,
       "grid_auto_flow": null,
       "grid_auto_rows": null,
       "grid_column": null,
       "grid_gap": null,
       "grid_row": null,
       "grid_template_areas": null,
       "grid_template_columns": null,
       "grid_template_rows": null,
       "height": null,
       "justify_content": null,
       "justify_items": null,
       "left": null,
       "margin": null,
       "max_height": null,
       "max_width": null,
       "min_height": null,
       "min_width": null,
       "object_fit": null,
       "object_position": null,
       "order": null,
       "overflow": null,
       "overflow_x": null,
       "overflow_y": null,
       "padding": null,
       "right": null,
       "top": null,
       "visibility": null,
       "width": null
      }
     },
     "9f005542eb2b4cef99fdb479db64318c": {
      "model_module": "@jupyter-widgets/base",
      "model_module_version": "1.2.0",
      "model_name": "LayoutModel",
      "state": {
       "_model_module": "@jupyter-widgets/base",
       "_model_module_version": "1.2.0",
       "_model_name": "LayoutModel",
       "_view_count": null,
       "_view_module": "@jupyter-widgets/base",
       "_view_module_version": "1.2.0",
       "_view_name": "LayoutView",
       "align_content": null,
       "align_items": null,
       "align_self": null,
       "border": null,
       "bottom": null,
       "display": null,
       "flex": null,
       "flex_flow": null,
       "grid_area": null,
       "grid_auto_columns": null,
       "grid_auto_flow": null,
       "grid_auto_rows": null,
       "grid_column": null,
       "grid_gap": null,
       "grid_row": null,
       "grid_template_areas": null,
       "grid_template_columns": null,
       "grid_template_rows": null,
       "height": null,
       "justify_content": null,
       "justify_items": null,
       "left": null,
       "margin": null,
       "max_height": null,
       "max_width": null,
       "min_height": null,
       "min_width": null,
       "object_fit": null,
       "object_position": null,
       "order": null,
       "overflow": null,
       "overflow_x": null,
       "overflow_y": null,
       "padding": null,
       "right": null,
       "top": null,
       "visibility": null,
       "width": null
      }
     },
     "a5963074ab2840c2938b4cb091c8ab66": {
      "model_module": "@jupyter-widgets/base",
      "model_module_version": "1.2.0",
      "model_name": "LayoutModel",
      "state": {
       "_model_module": "@jupyter-widgets/base",
       "_model_module_version": "1.2.0",
       "_model_name": "LayoutModel",
       "_view_count": null,
       "_view_module": "@jupyter-widgets/base",
       "_view_module_version": "1.2.0",
       "_view_name": "LayoutView",
       "align_content": null,
       "align_items": null,
       "align_self": null,
       "border": null,
       "bottom": null,
       "display": null,
       "flex": null,
       "flex_flow": null,
       "grid_area": null,
       "grid_auto_columns": null,
       "grid_auto_flow": null,
       "grid_auto_rows": null,
       "grid_column": null,
       "grid_gap": null,
       "grid_row": null,
       "grid_template_areas": null,
       "grid_template_columns": null,
       "grid_template_rows": null,
       "height": null,
       "justify_content": null,
       "justify_items": null,
       "left": null,
       "margin": null,
       "max_height": null,
       "max_width": null,
       "min_height": null,
       "min_width": null,
       "object_fit": null,
       "object_position": null,
       "order": null,
       "overflow": null,
       "overflow_x": null,
       "overflow_y": null,
       "padding": null,
       "right": null,
       "top": null,
       "visibility": null,
       "width": null
      }
     },
     "a9590f9ffa9d4b2c96c4f66891699277": {
      "model_module": "@jupyter-widgets/controls",
      "model_module_version": "1.5.0",
      "model_name": "HTMLModel",
      "state": {
       "_dom_classes": [],
       "_model_module": "@jupyter-widgets/controls",
       "_model_module_version": "1.5.0",
       "_model_name": "HTMLModel",
       "_view_count": null,
       "_view_module": "@jupyter-widgets/controls",
       "_view_module_version": "1.5.0",
       "_view_name": "HTMLView",
       "description": "",
       "description_tooltip": null,
       "layout": "IPY_MODEL_b44ac901bc214cbf88a300ea88f51b99",
       "placeholder": "​",
       "style": "IPY_MODEL_df71a8ef95714c1dbbee6a01693523f8",
       "value": " 436M/436M [00:01&lt;00:00, 275MB/s]"
      }
     },
     "ac275a2d5c7c4dfdb3b1cfa046040f71": {
      "model_module": "@jupyter-widgets/controls",
      "model_module_version": "1.5.0",
      "model_name": "ProgressStyleModel",
      "state": {
       "_model_module": "@jupyter-widgets/controls",
       "_model_module_version": "1.5.0",
       "_model_name": "ProgressStyleModel",
       "_view_count": null,
       "_view_module": "@jupyter-widgets/base",
       "_view_module_version": "1.2.0",
       "_view_name": "StyleView",
       "bar_color": null,
       "description_width": ""
      }
     },
     "ae86f91316f64600b855662365644168": {
      "model_module": "@jupyter-widgets/base",
      "model_module_version": "1.2.0",
      "model_name": "LayoutModel",
      "state": {
       "_model_module": "@jupyter-widgets/base",
       "_model_module_version": "1.2.0",
       "_model_name": "LayoutModel",
       "_view_count": null,
       "_view_module": "@jupyter-widgets/base",
       "_view_module_version": "1.2.0",
       "_view_name": "LayoutView",
       "align_content": null,
       "align_items": null,
       "align_self": null,
       "border": null,
       "bottom": null,
       "display": null,
       "flex": null,
       "flex_flow": null,
       "grid_area": null,
       "grid_auto_columns": null,
       "grid_auto_flow": null,
       "grid_auto_rows": null,
       "grid_column": null,
       "grid_gap": null,
       "grid_row": null,
       "grid_template_areas": null,
       "grid_template_columns": null,
       "grid_template_rows": null,
       "height": null,
       "justify_content": null,
       "justify_items": null,
       "left": null,
       "margin": null,
       "max_height": null,
       "max_width": null,
       "min_height": null,
       "min_width": null,
       "object_fit": null,
       "object_position": null,
       "order": null,
       "overflow": null,
       "overflow_x": null,
       "overflow_y": null,
       "padding": null,
       "right": null,
       "top": null,
       "visibility": null,
       "width": null
      }
     },
     "b0cc3f4dfce147a5a3a8149e84f7a54f": {
      "model_module": "@jupyter-widgets/controls",
      "model_module_version": "1.5.0",
      "model_name": "DescriptionStyleModel",
      "state": {
       "_model_module": "@jupyter-widgets/controls",
       "_model_module_version": "1.5.0",
       "_model_name": "DescriptionStyleModel",
       "_view_count": null,
       "_view_module": "@jupyter-widgets/base",
       "_view_module_version": "1.2.0",
       "_view_name": "StyleView",
       "description_width": ""
      }
     },
     "b44ac901bc214cbf88a300ea88f51b99": {
      "model_module": "@jupyter-widgets/base",
      "model_module_version": "1.2.0",
      "model_name": "LayoutModel",
      "state": {
       "_model_module": "@jupyter-widgets/base",
       "_model_module_version": "1.2.0",
       "_model_name": "LayoutModel",
       "_view_count": null,
       "_view_module": "@jupyter-widgets/base",
       "_view_module_version": "1.2.0",
       "_view_name": "LayoutView",
       "align_content": null,
       "align_items": null,
       "align_self": null,
       "border": null,
       "bottom": null,
       "display": null,
       "flex": null,
       "flex_flow": null,
       "grid_area": null,
       "grid_auto_columns": null,
       "grid_auto_flow": null,
       "grid_auto_rows": null,
       "grid_column": null,
       "grid_gap": null,
       "grid_row": null,
       "grid_template_areas": null,
       "grid_template_columns": null,
       "grid_template_rows": null,
       "height": null,
       "justify_content": null,
       "justify_items": null,
       "left": null,
       "margin": null,
       "max_height": null,
       "max_width": null,
       "min_height": null,
       "min_width": null,
       "object_fit": null,
       "object_position": null,
       "order": null,
       "overflow": null,
       "overflow_x": null,
       "overflow_y": null,
       "padding": null,
       "right": null,
       "top": null,
       "visibility": null,
       "width": null
      }
     },
     "b5730acb920643c19367eb345fbc8b2e": {
      "model_module": "@jupyter-widgets/base",
      "model_module_version": "1.2.0",
      "model_name": "LayoutModel",
      "state": {
       "_model_module": "@jupyter-widgets/base",
       "_model_module_version": "1.2.0",
       "_model_name": "LayoutModel",
       "_view_count": null,
       "_view_module": "@jupyter-widgets/base",
       "_view_module_version": "1.2.0",
       "_view_name": "LayoutView",
       "align_content": null,
       "align_items": null,
       "align_self": null,
       "border": null,
       "bottom": null,
       "display": null,
       "flex": null,
       "flex_flow": null,
       "grid_area": null,
       "grid_auto_columns": null,
       "grid_auto_flow": null,
       "grid_auto_rows": null,
       "grid_column": null,
       "grid_gap": null,
       "grid_row": null,
       "grid_template_areas": null,
       "grid_template_columns": null,
       "grid_template_rows": null,
       "height": null,
       "justify_content": null,
       "justify_items": null,
       "left": null,
       "margin": null,
       "max_height": null,
       "max_width": null,
       "min_height": null,
       "min_width": null,
       "object_fit": null,
       "object_position": null,
       "order": null,
       "overflow": null,
       "overflow_x": null,
       "overflow_y": null,
       "padding": null,
       "right": null,
       "top": null,
       "visibility": null,
       "width": null
      }
     },
     "bfa1c1665c534d03a750221b28fafc8e": {
      "model_module": "@jupyter-widgets/controls",
      "model_module_version": "1.5.0",
      "model_name": "DescriptionStyleModel",
      "state": {
       "_model_module": "@jupyter-widgets/controls",
       "_model_module_version": "1.5.0",
       "_model_name": "DescriptionStyleModel",
       "_view_count": null,
       "_view_module": "@jupyter-widgets/base",
       "_view_module_version": "1.2.0",
       "_view_name": "StyleView",
       "description_width": ""
      }
     },
     "c288c90416ea4be3a0825bbf35afc861": {
      "model_module": "@jupyter-widgets/controls",
      "model_module_version": "1.5.0",
      "model_name": "HBoxModel",
      "state": {
       "_dom_classes": [],
       "_model_module": "@jupyter-widgets/controls",
       "_model_module_version": "1.5.0",
       "_model_name": "HBoxModel",
       "_view_count": null,
       "_view_module": "@jupyter-widgets/controls",
       "_view_module_version": "1.5.0",
       "_view_name": "HBoxView",
       "box_style": "",
       "children": [
        "IPY_MODEL_49d81f13edd74372b137ab7f008cf79b",
        "IPY_MODEL_fe12893b56ad4ee9b7ae0453183cb04d",
        "IPY_MODEL_dc4d7d1f724a489880d74e29dca9f6fd"
       ],
       "layout": "IPY_MODEL_91e6e7b6a015440597cd4f44a1b8ea7b"
      }
     },
     "c3595f9b1e364485b24c562aabed2bda": {
      "model_module": "@jupyter-widgets/controls",
      "model_module_version": "1.5.0",
      "model_name": "FloatProgressModel",
      "state": {
       "_dom_classes": [],
       "_model_module": "@jupyter-widgets/controls",
       "_model_module_version": "1.5.0",
       "_model_name": "FloatProgressModel",
       "_view_count": null,
       "_view_module": "@jupyter-widgets/controls",
       "_view_module_version": "1.5.0",
       "_view_name": "ProgressView",
       "bar_style": "success",
       "description": "",
       "description_tooltip": null,
       "layout": "IPY_MODEL_4cb23de338ee43d19e73a8e4662d4f8a",
       "max": 1,
       "min": 0,
       "orientation": "horizontal",
       "style": "IPY_MODEL_f5061a31b3cc4282b20d4f2f398bada5",
       "value": 1
      }
     },
     "c4a8ec4f795b4784a1336c28187bcaea": {
      "model_module": "@jupyter-widgets/base",
      "model_module_version": "1.2.0",
      "model_name": "LayoutModel",
      "state": {
       "_model_module": "@jupyter-widgets/base",
       "_model_module_version": "1.2.0",
       "_model_name": "LayoutModel",
       "_view_count": null,
       "_view_module": "@jupyter-widgets/base",
       "_view_module_version": "1.2.0",
       "_view_name": "LayoutView",
       "align_content": null,
       "align_items": null,
       "align_self": null,
       "border": null,
       "bottom": null,
       "display": null,
       "flex": null,
       "flex_flow": null,
       "grid_area": null,
       "grid_auto_columns": null,
       "grid_auto_flow": null,
       "grid_auto_rows": null,
       "grid_column": null,
       "grid_gap": null,
       "grid_row": null,
       "grid_template_areas": null,
       "grid_template_columns": null,
       "grid_template_rows": null,
       "height": null,
       "justify_content": null,
       "justify_items": null,
       "left": null,
       "margin": null,
       "max_height": null,
       "max_width": null,
       "min_height": null,
       "min_width": null,
       "object_fit": null,
       "object_position": null,
       "order": null,
       "overflow": null,
       "overflow_x": null,
       "overflow_y": null,
       "padding": null,
       "right": null,
       "top": null,
       "visibility": null,
       "width": null
      }
     },
     "cceb3e955c0e4713a1da6d15d9540540": {
      "model_module": "@jupyter-widgets/controls",
      "model_module_version": "1.5.0",
      "model_name": "FloatProgressModel",
      "state": {
       "_dom_classes": [],
       "_model_module": "@jupyter-widgets/controls",
       "_model_module_version": "1.5.0",
       "_model_name": "FloatProgressModel",
       "_view_count": null,
       "_view_module": "@jupyter-widgets/controls",
       "_view_module_version": "1.5.0",
       "_view_name": "ProgressView",
       "bar_style": "success",
       "description": "",
       "description_tooltip": null,
       "layout": "IPY_MODEL_97ac1cc0838d43788e46d90f811fe55b",
       "max": 1,
       "min": 0,
       "orientation": "horizontal",
       "style": "IPY_MODEL_2934d9b1edf84f669dd03b4051550a1a",
       "value": 1
      }
     },
     "d0fae94704974c058bdee2e5d83e72c0": {
      "model_module": "@jupyter-widgets/base",
      "model_module_version": "1.2.0",
      "model_name": "LayoutModel",
      "state": {
       "_model_module": "@jupyter-widgets/base",
       "_model_module_version": "1.2.0",
       "_model_name": "LayoutModel",
       "_view_count": null,
       "_view_module": "@jupyter-widgets/base",
       "_view_module_version": "1.2.0",
       "_view_name": "LayoutView",
       "align_content": null,
       "align_items": null,
       "align_self": null,
       "border": null,
       "bottom": null,
       "display": null,
       "flex": null,
       "flex_flow": null,
       "grid_area": null,
       "grid_auto_columns": null,
       "grid_auto_flow": null,
       "grid_auto_rows": null,
       "grid_column": null,
       "grid_gap": null,
       "grid_row": null,
       "grid_template_areas": null,
       "grid_template_columns": null,
       "grid_template_rows": null,
       "height": null,
       "justify_content": null,
       "justify_items": null,
       "left": null,
       "margin": null,
       "max_height": null,
       "max_width": null,
       "min_height": null,
       "min_width": null,
       "object_fit": null,
       "object_position": null,
       "order": null,
       "overflow": null,
       "overflow_x": null,
       "overflow_y": null,
       "padding": null,
       "right": null,
       "top": null,
       "visibility": null,
       "width": null
      }
     },
     "d27908b22e7d4557bc74dadafff324ca": {
      "model_module": "@jupyter-widgets/controls",
      "model_module_version": "1.5.0",
      "model_name": "FloatProgressModel",
      "state": {
       "_dom_classes": [],
       "_model_module": "@jupyter-widgets/controls",
       "_model_module_version": "1.5.0",
       "_model_name": "FloatProgressModel",
       "_view_count": null,
       "_view_module": "@jupyter-widgets/controls",
       "_view_module_version": "1.5.0",
       "_view_name": "ProgressView",
       "bar_style": "success",
       "description": "",
       "description_tooltip": null,
       "layout": "IPY_MODEL_5a4f1ffc7d564c1ba30b4cf0936b0d7c",
       "max": 213450,
       "min": 0,
       "orientation": "horizontal",
       "style": "IPY_MODEL_1d2cf97cee5a415e8617c36d715924d3",
       "value": 213450
      }
     },
     "d5e09f0a6e434d3b8a93a3c22b50cd4a": {
      "model_module": "@jupyter-widgets/controls",
      "model_module_version": "1.5.0",
      "model_name": "DescriptionStyleModel",
      "state": {
       "_model_module": "@jupyter-widgets/controls",
       "_model_module_version": "1.5.0",
       "_model_name": "DescriptionStyleModel",
       "_view_count": null,
       "_view_module": "@jupyter-widgets/base",
       "_view_module_version": "1.2.0",
       "_view_name": "StyleView",
       "description_width": ""
      }
     },
     "d60dedbabb344d6d9b66684979f0031e": {
      "model_module": "@jupyter-widgets/controls",
      "model_module_version": "1.5.0",
      "model_name": "HBoxModel",
      "state": {
       "_dom_classes": [],
       "_model_module": "@jupyter-widgets/controls",
       "_model_module_version": "1.5.0",
       "_model_name": "HBoxModel",
       "_view_count": null,
       "_view_module": "@jupyter-widgets/controls",
       "_view_module_version": "1.5.0",
       "_view_name": "HBoxView",
       "box_style": "",
       "children": [
        "IPY_MODEL_1ea3704d5158478d80e0795ec1522d30",
        "IPY_MODEL_c3595f9b1e364485b24c562aabed2bda",
        "IPY_MODEL_5a8c2b8ee0fb47288df21c35d2c3cf22"
       ],
       "layout": "IPY_MODEL_9627c8cf781f42219822c1b3f46fe214"
      }
     },
     "d7ae64a4cd3544c9b23771144c70e343": {
      "model_module": "@jupyter-widgets/base",
      "model_module_version": "1.2.0",
      "model_name": "LayoutModel",
      "state": {
       "_model_module": "@jupyter-widgets/base",
       "_model_module_version": "1.2.0",
       "_model_name": "LayoutModel",
       "_view_count": null,
       "_view_module": "@jupyter-widgets/base",
       "_view_module_version": "1.2.0",
       "_view_name": "LayoutView",
       "align_content": null,
       "align_items": null,
       "align_self": null,
       "border": null,
       "bottom": null,
       "display": null,
       "flex": null,
       "flex_flow": null,
       "grid_area": null,
       "grid_auto_columns": null,
       "grid_auto_flow": null,
       "grid_auto_rows": null,
       "grid_column": null,
       "grid_gap": null,
       "grid_row": null,
       "grid_template_areas": null,
       "grid_template_columns": null,
       "grid_template_rows": null,
       "height": null,
       "justify_content": null,
       "justify_items": null,
       "left": null,
       "margin": null,
       "max_height": null,
       "max_width": null,
       "min_height": null,
       "min_width": null,
       "object_fit": null,
       "object_position": null,
       "order": null,
       "overflow": null,
       "overflow_x": null,
       "overflow_y": null,
       "padding": null,
       "right": null,
       "top": null,
       "visibility": null,
       "width": null
      }
     },
     "d813fe39b15f46c4a3490b9bc8b27a8b": {
      "model_module": "@jupyter-widgets/base",
      "model_module_version": "1.2.0",
      "model_name": "LayoutModel",
      "state": {
       "_model_module": "@jupyter-widgets/base",
       "_model_module_version": "1.2.0",
       "_model_name": "LayoutModel",
       "_view_count": null,
       "_view_module": "@jupyter-widgets/base",
       "_view_module_version": "1.2.0",
       "_view_name": "LayoutView",
       "align_content": null,
       "align_items": null,
       "align_self": null,
       "border": null,
       "bottom": null,
       "display": null,
       "flex": null,
       "flex_flow": null,
       "grid_area": null,
       "grid_auto_columns": null,
       "grid_auto_flow": null,
       "grid_auto_rows": null,
       "grid_column": null,
       "grid_gap": null,
       "grid_row": null,
       "grid_template_areas": null,
       "grid_template_columns": null,
       "grid_template_rows": null,
       "height": null,
       "justify_content": null,
       "justify_items": null,
       "left": null,
       "margin": null,
       "max_height": null,
       "max_width": null,
       "min_height": null,
       "min_width": null,
       "object_fit": null,
       "object_position": null,
       "order": null,
       "overflow": null,
       "overflow_x": null,
       "overflow_y": null,
       "padding": null,
       "right": null,
       "top": null,
       "visibility": null,
       "width": null
      }
     },
     "dbf75071c1ba4e49b9fb7cec26372a1a": {
      "model_module": "@jupyter-widgets/controls",
      "model_module_version": "1.5.0",
      "model_name": "DescriptionStyleModel",
      "state": {
       "_model_module": "@jupyter-widgets/controls",
       "_model_module_version": "1.5.0",
       "_model_name": "DescriptionStyleModel",
       "_view_count": null,
       "_view_module": "@jupyter-widgets/base",
       "_view_module_version": "1.2.0",
       "_view_name": "StyleView",
       "description_width": ""
      }
     },
     "dc4d7d1f724a489880d74e29dca9f6fd": {
      "model_module": "@jupyter-widgets/controls",
      "model_module_version": "1.5.0",
      "model_name": "HTMLModel",
      "state": {
       "_dom_classes": [],
       "_model_module": "@jupyter-widgets/controls",
       "_model_module_version": "1.5.0",
       "_model_name": "HTMLModel",
       "_view_count": null,
       "_view_module": "@jupyter-widgets/controls",
       "_view_module_version": "1.5.0",
       "_view_name": "HTMLView",
       "description": "",
       "description_tooltip": null,
       "layout": "IPY_MODEL_901c5437f49e440b8b467223c2afebf7",
       "placeholder": "​",
       "style": "IPY_MODEL_5ee1993b32484cb3a7fc08109b6092e8",
       "value": " 436k/436k [00:00&lt;00:00, 3.57MB/s]"
      }
     },
     "ddd4e672643641c68fe637099266be90": {
      "model_module": "@jupyter-widgets/base",
      "model_module_version": "1.2.0",
      "model_name": "LayoutModel",
      "state": {
       "_model_module": "@jupyter-widgets/base",
       "_model_module_version": "1.2.0",
       "_model_name": "LayoutModel",
       "_view_count": null,
       "_view_module": "@jupyter-widgets/base",
       "_view_module_version": "1.2.0",
       "_view_name": "LayoutView",
       "align_content": null,
       "align_items": null,
       "align_self": null,
       "border": null,
       "bottom": null,
       "display": null,
       "flex": null,
       "flex_flow": null,
       "grid_area": null,
       "grid_auto_columns": null,
       "grid_auto_flow": null,
       "grid_auto_rows": null,
       "grid_column": null,
       "grid_gap": null,
       "grid_row": null,
       "grid_template_areas": null,
       "grid_template_columns": null,
       "grid_template_rows": null,
       "height": null,
       "justify_content": null,
       "justify_items": null,
       "left": null,
       "margin": null,
       "max_height": null,
       "max_width": null,
       "min_height": null,
       "min_width": null,
       "object_fit": null,
       "object_position": null,
       "order": null,
       "overflow": null,
       "overflow_x": null,
       "overflow_y": null,
       "padding": null,
       "right": null,
       "top": null,
       "visibility": null,
       "width": null
      }
     },
     "df09594f30b54476b2005229f472a9b1": {
      "model_module": "@jupyter-widgets/controls",
      "model_module_version": "1.5.0",
      "model_name": "ProgressStyleModel",
      "state": {
       "_model_module": "@jupyter-widgets/controls",
       "_model_module_version": "1.5.0",
       "_model_name": "ProgressStyleModel",
       "_view_count": null,
       "_view_module": "@jupyter-widgets/base",
       "_view_module_version": "1.2.0",
       "_view_name": "StyleView",
       "bar_color": null,
       "description_width": ""
      }
     },
     "df71a8ef95714c1dbbee6a01693523f8": {
      "model_module": "@jupyter-widgets/controls",
      "model_module_version": "1.5.0",
      "model_name": "DescriptionStyleModel",
      "state": {
       "_model_module": "@jupyter-widgets/controls",
       "_model_module_version": "1.5.0",
       "_model_name": "DescriptionStyleModel",
       "_view_count": null,
       "_view_module": "@jupyter-widgets/base",
       "_view_module_version": "1.2.0",
       "_view_name": "StyleView",
       "description_width": ""
      }
     },
     "e1b1cec1327c43088bf12d901205535c": {
      "model_module": "@jupyter-widgets/base",
      "model_module_version": "1.2.0",
      "model_name": "LayoutModel",
      "state": {
       "_model_module": "@jupyter-widgets/base",
       "_model_module_version": "1.2.0",
       "_model_name": "LayoutModel",
       "_view_count": null,
       "_view_module": "@jupyter-widgets/base",
       "_view_module_version": "1.2.0",
       "_view_name": "LayoutView",
       "align_content": null,
       "align_items": null,
       "align_self": null,
       "border": null,
       "bottom": null,
       "display": null,
       "flex": null,
       "flex_flow": null,
       "grid_area": null,
       "grid_auto_columns": null,
       "grid_auto_flow": null,
       "grid_auto_rows": null,
       "grid_column": null,
       "grid_gap": null,
       "grid_row": null,
       "grid_template_areas": null,
       "grid_template_columns": null,
       "grid_template_rows": null,
       "height": null,
       "justify_content": null,
       "justify_items": null,
       "left": null,
       "margin": null,
       "max_height": null,
       "max_width": null,
       "min_height": null,
       "min_width": null,
       "object_fit": null,
       "object_position": null,
       "order": null,
       "overflow": null,
       "overflow_x": null,
       "overflow_y": null,
       "padding": null,
       "right": null,
       "top": null,
       "visibility": null,
       "width": null
      }
     },
     "e61c0f7862a24187acfe672fb2dcf6fe": {
      "model_module": "@jupyter-widgets/base",
      "model_module_version": "1.2.0",
      "model_name": "LayoutModel",
      "state": {
       "_model_module": "@jupyter-widgets/base",
       "_model_module_version": "1.2.0",
       "_model_name": "LayoutModel",
       "_view_count": null,
       "_view_module": "@jupyter-widgets/base",
       "_view_module_version": "1.2.0",
       "_view_name": "LayoutView",
       "align_content": null,
       "align_items": null,
       "align_self": null,
       "border": null,
       "bottom": null,
       "display": null,
       "flex": null,
       "flex_flow": null,
       "grid_area": null,
       "grid_auto_columns": null,
       "grid_auto_flow": null,
       "grid_auto_rows": null,
       "grid_column": null,
       "grid_gap": null,
       "grid_row": null,
       "grid_template_areas": null,
       "grid_template_columns": null,
       "grid_template_rows": null,
       "height": null,
       "justify_content": null,
       "justify_items": null,
       "left": null,
       "margin": null,
       "max_height": null,
       "max_width": null,
       "min_height": null,
       "min_width": null,
       "object_fit": null,
       "object_position": null,
       "order": null,
       "overflow": null,
       "overflow_x": null,
       "overflow_y": null,
       "padding": null,
       "right": null,
       "top": null,
       "visibility": null,
       "width": null
      }
     },
     "ee50db1a294140e0bb52d127f7d50173": {
      "model_module": "@jupyter-widgets/controls",
      "model_module_version": "1.5.0",
      "model_name": "DescriptionStyleModel",
      "state": {
       "_model_module": "@jupyter-widgets/controls",
       "_model_module_version": "1.5.0",
       "_model_name": "DescriptionStyleModel",
       "_view_count": null,
       "_view_module": "@jupyter-widgets/base",
       "_view_module_version": "1.2.0",
       "_view_name": "StyleView",
       "description_width": ""
      }
     },
     "f5061a31b3cc4282b20d4f2f398bada5": {
      "model_module": "@jupyter-widgets/controls",
      "model_module_version": "1.5.0",
      "model_name": "ProgressStyleModel",
      "state": {
       "_model_module": "@jupyter-widgets/controls",
       "_model_module_version": "1.5.0",
       "_model_name": "ProgressStyleModel",
       "_view_count": null,
       "_view_module": "@jupyter-widgets/base",
       "_view_module_version": "1.2.0",
       "_view_name": "StyleView",
       "bar_color": null,
       "description_width": ""
      }
     },
     "f5c26d718be241d78de9f689b321c625": {
      "model_module": "@jupyter-widgets/controls",
      "model_module_version": "1.5.0",
      "model_name": "DescriptionStyleModel",
      "state": {
       "_model_module": "@jupyter-widgets/controls",
       "_model_module_version": "1.5.0",
       "_model_name": "DescriptionStyleModel",
       "_view_count": null,
       "_view_module": "@jupyter-widgets/base",
       "_view_module_version": "1.2.0",
       "_view_name": "StyleView",
       "description_width": ""
      }
     },
     "fe12893b56ad4ee9b7ae0453183cb04d": {
      "model_module": "@jupyter-widgets/controls",
      "model_module_version": "1.5.0",
      "model_name": "FloatProgressModel",
      "state": {
       "_dom_classes": [],
       "_model_module": "@jupyter-widgets/controls",
       "_model_module_version": "1.5.0",
       "_model_name": "FloatProgressModel",
       "_view_count": null,
       "_view_module": "@jupyter-widgets/controls",
       "_view_module_version": "1.5.0",
       "_view_name": "ProgressView",
       "bar_style": "success",
       "description": "",
       "description_tooltip": null,
       "layout": "IPY_MODEL_9f005542eb2b4cef99fdb479db64318c",
       "max": 435797,
       "min": 0,
       "orientation": "horizontal",
       "style": "IPY_MODEL_ac275a2d5c7c4dfdb3b1cfa046040f71",
       "value": 435797
      }
     },
     "fea69419b9974ba6bc17501a159f1216": {
      "model_module": "@jupyter-widgets/base",
      "model_module_version": "1.2.0",
      "model_name": "LayoutModel",
      "state": {
       "_model_module": "@jupyter-widgets/base",
       "_model_module_version": "1.2.0",
       "_model_name": "LayoutModel",
       "_view_count": null,
       "_view_module": "@jupyter-widgets/base",
       "_view_module_version": "1.2.0",
       "_view_name": "LayoutView",
       "align_content": null,
       "align_items": null,
       "align_self": null,
       "border": null,
       "bottom": null,
       "display": null,
       "flex": null,
       "flex_flow": null,
       "grid_area": null,
       "grid_auto_columns": null,
       "grid_auto_flow": null,
       "grid_auto_rows": null,
       "grid_column": null,
       "grid_gap": null,
       "grid_row": null,
       "grid_template_areas": null,
       "grid_template_columns": null,
       "grid_template_rows": null,
       "height": null,
       "justify_content": null,
       "justify_items": null,
       "left": null,
       "margin": null,
       "max_height": null,
       "max_width": null,
       "min_height": null,
       "min_width": null,
       "object_fit": null,
       "object_position": null,
       "order": null,
       "overflow": null,
       "overflow_x": null,
       "overflow_y": null,
       "padding": null,
       "right": null,
       "top": null,
       "visibility": null,
       "width": null
      }
     },
     "fec0bd076b7341db9e2e569e46719e47": {
      "model_module": "@jupyter-widgets/controls",
      "model_module_version": "1.5.0",
      "model_name": "HTMLModel",
      "state": {
       "_dom_classes": [],
       "_model_module": "@jupyter-widgets/controls",
       "_model_module_version": "1.5.0",
       "_model_name": "HTMLModel",
       "_view_count": null,
       "_view_module": "@jupyter-widgets/controls",
       "_view_module_version": "1.5.0",
       "_view_name": "HTMLView",
       "description": "",
       "description_tooltip": null,
       "layout": "IPY_MODEL_99edfcfa747e422eb6fae62b1e36ba82",
       "placeholder": "​",
       "style": "IPY_MODEL_3df9c11159a74576b3eab2557655130d",
       "value": "Downloading (…)lve/main/config.json: 100%"
      }
     }
    },
    "version_major": 2,
    "version_minor": 0
   }
  }
 },
 "nbformat": 4,
 "nbformat_minor": 5
}
